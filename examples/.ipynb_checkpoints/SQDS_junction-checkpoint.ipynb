{
 "cells": [
  {
   "cell_type": "code",
   "execution_count": null,
   "metadata": {},
   "outputs": [],
   "source": [
    "using Revise\n",
    "using NonEquilibriumGreenFunction\n",
    "using HssMatrices\n",
    "using LinearAlgebra\n",
    "using CairoMakie\n",
    "using LaTeXStrings\n",
    "using BenchmarkTools\n",
    "#HSS compression does not leverage efficiently the BLAS multithreading. \n",
    "#It is better to turn it off\n",
    "BLAS.set_num_threads(1)"
   ]
  },
  {
   "cell_type": "markdown",
   "metadata": {},
   "source": [
    "This time, we consider a junction formed by a quantum dot connected to two superconduction leads. "
   ]
  },
  {
   "cell_type": "markdown",
   "metadata": {},
   "source": [
    " The system Hamiltonian is:\n",
    "\\begin{equation}\n",
    "\tH = H_{L} + H_{D} + H_{T}  - \\sum_l \\mu_l N_l,\n",
    "\\end{equation}\n",
    "The terms $H_{L}$ is the leads Hamiltonian. $H_T$ is the tunnel coupling between the leads and the dot and $H_{D}$ describe the isolated dot.\n",
    "Using the second quantization formalism, we write them as\n",
    "\\begin{aligned}\n",
    "\tH_{L} &= \\sum_{\\alpha,l,s} \\epsilon_{\\alpha,l} n_{\\alpha,l,s}  \\\\%+ \\sum_{\\alpha,l}  (\\Delta_l\\psi_{\\alpha,l,\\downarrow}^\\dagger \\psi_{\\alpha,l,\\uparrow}^\\dagger + \\Delta_l \\psi_{\\alpha,l,\\uparrow} \\psi_{\\alpha,l,\\downarrow} ), \\\\\n",
    "\tH_{D} &=  \\varepsilon \\sum_s d_s^\\dagger d_s, \\\\\n",
    "\tH_T &= \\sum_{\\alpha,l,s} \\left\\{t_{\\alpha,l} \\psi_{\\alpha,l,s}^\\dagger d_s+ \\text{h.c.} \\right\\},\n",
    "\t\\\\ N_l &= \\sum_{\\alpha,s} n_{\\alpha,l,s}.\n",
    "\\end{aligned}  \n",
    "where the operators $\\psi_{\\alpha,l,s}^\\dagger$ create an electron of spin $s$ in the mode $\\alpha$ of lead $l$, and $d_s^\\dagger$ creates an electron of spin $s$ on the dot at energy $\\varepsilon$. The number operators are defined as $n_{\\alpha,l,s} =\\psi_{\\alpha,l,s}^\\dagger \\psi_{\\alpha,l,s}$ and $n_s = d_s^\\dagger d_s$. Here, $\\epsilon_{\\alpha,l}$ represents the energy of an electron in the state $\\alpha$ of lead $l$, and $t_{\\alpha,l}$ is the tunnel coupling between the dot and the mode $\\alpha$ of lead $l$. The Fermi level of lead $l$ is denoted by $\\mu_l$. $\\hbar$ is the reduced Planck constant. "
   ]
  },
  {
   "cell_type": "code",
   "execution_count": null,
   "metadata": {},
   "outputs": [],
   "source": []
  }
 ],
 "metadata": {
  "kernelspec": {
   "display_name": "Julia 1.8.2",
   "language": "julia",
   "name": "julia-1.8"
  },
  "language_info": {
   "file_extension": ".jl",
   "mimetype": "application/julia",
   "name": "julia",
   "version": "1.8.2"
  }
 },
 "nbformat": 4,
 "nbformat_minor": 2
}
