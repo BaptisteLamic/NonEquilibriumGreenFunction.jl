{
 "cells": [
  {
   "cell_type": "code",
   "execution_count": 20,
   "metadata": {},
   "outputs": [],
   "source": [
    "using Symbolics\n",
    "using Metatheory\n",
    "import Metatheory.@rule\n",
    "using NonEquilibriumGreenFunction\n"
   ]
  },
  {
   "cell_type": "code",
   "execution_count": 21,
   "metadata": {},
   "outputs": [
    {
     "data": {
      "text/plain": [
       "3-element Vector{SymbolicOperator}:\n",
       " SymbolicOperator(x)\n",
       " SymbolicOperator(y)\n",
       " SymbolicOperator(z)"
      ]
     },
     "metadata": {},
     "output_type": "display_data"
    }
   ],
   "source": [
    "@variables x::Kernel y z\n"
   ]
  },
  {
   "cell_type": "code",
   "execution_count": 3,
   "metadata": {},
   "outputs": [
    {
     "ename": "UndefVarError",
     "evalue": "UndefVarError: `expr` not defined",
     "output_type": "error",
     "traceback": [
      "UndefVarError: `expr` not defined\n",
      "\n",
      "Stacktrace:\n",
      " [1] top-level scope\n",
      "   @ ~/.julia/dev/nonequilibriumgreenfunction.jl/test/debug2.ipynb:1"
     ]
    }
   ],
   "source": [
    "istree(Symbolics.unwrap( expr) )"
   ]
  },
  {
   "cell_type": "code",
   "execution_count": 11,
   "metadata": {},
   "outputs": [
    {
     "data": {
      "text/plain": [
       "20-element Vector{AbstractRule}:\n",
       " 0 * ~x --> 0\n",
       " 0 + ~x => x\n",
       " ~x + 0 => x\n",
       " 0 - ~x => -x\n",
       " ~x - 0 => x\n",
       " 1 * ~x => x\n",
       " -1 * ~x => -x\n",
       " -((~a + ~b)) => -a - b\n",
       " ~c - (~a + ~b) => (c - a) - b\n",
       " -((~a - ~b)) => -a + b\n",
       " ~x * ~(n::is_number) => n * x\n",
       " ~(n::is_number) * ~x + ~(m::is_number) * ~x => (n + m) * x\n",
       " ~x + ~x => 2x\n",
       " ~(n::is_number) * ~x + ~x => (n + 1) * x\n",
       " ~(n::is_number) * ~x - ~x => (n - 1) * x\n",
       " ~(a::is_number) * ~(b::is_number) * ~z => (a * b) * z\n",
       " ~(n::is_number) * (~x + ~y) => n * x + n * y\n",
       " inv(inv(~(a::is_operator))) => a\n",
       " (~(f::is_differential))(~a + ~b) => f(a) + f(b)\n",
       " (~(f::is_differential))(~a - ~b) => f(a) - f(b)"
      ]
     },
     "metadata": {},
     "output_type": "display_data"
    }
   ],
   "source": [
    "is_number(x) = x isa Number\n",
    "\n",
    "is_operator(::SymbolicUtils.BasicSymbolic{K}) where K <: NonEquilibriumGreenFunction.AbstractOperator = true  \n",
    "is_operator(::K) where K <: NonEquilibriumGreenFunction.AbstractOperator = true  \n",
    "is_operator(x) = false  \n",
    "\n",
    "is_differential(::Differential) = true\n",
    "is_differential(x) = false\n",
    "rules = [\n",
    "  @rule 0 * ~x --> 0\n",
    "  @rule 0 + ~x => ~x\n",
    "  @rule ~x + 0 => ~x\n",
    "  @rule 0 - ~x => - ~x\n",
    "  @rule ~x - 0 => ~x\n",
    "  @rule 1 * ~x => ~x\n",
    "  @rule -1 * ~x => - ~x\n",
    "  @rule -( ~a + ~b) => - (~a) - (~b) \n",
    "  @rule ~c - ( ~a + ~b) => ~c - (~a) - (~b) \n",
    "  @rule -( ~a - ~b) => - (~a) + (~b) \n",
    "\n",
    "  @rule ~x * ~n::is_number => ~n * ~x\n",
    "  @rule ~n::is_number * ~x + ~m::is_number * ~x  => (~n+m) * ~x\n",
    "  @rule ~x + ~x  => 2 * ~x\n",
    "  @rule ~n::is_number * ~x + ~x  => (~n+1) * ~x\n",
    "  @rule ~n::is_number * ~x - ~x  => (~n-1) * ~x\n",
    "  @rule ~a::is_number * ~b::is_number * ~z => (~a * ~b) * ~z\n",
    "  @rule ~n::is_number * (~x + ~y)  =>  ~n * ~x + ~n* ~y\n",
    "\n",
    "  @rule inv(inv(~a::is_operator)) => ~a \n",
    "  @rule (~f::is_differential)( ~a + ~b) => (~f)(~a) + (~f)(~b) \n",
    "  @rule (~f::is_differential)( ~a - ~b) => (~f)(~a) - (~f)(~b) \n",
    "] "
   ]
  },
  {
   "cell_type": "code",
   "execution_count": 12,
   "metadata": {},
   "outputs": [
    {
     "data": {
      "text/latex": [
       "$$ \\begin{equation}\n",
       "\\mathrm{inv}\\left( \\mathrm{inv}\\left( x \\right) \\right)\n",
       "\\end{equation}\n",
       " $$"
      ],
      "text/plain": [
       "inv(inv(x))"
      ]
     },
     "metadata": {},
     "output_type": "display_data"
    }
   ],
   "source": [
    "expr = (inv(inv(x)))"
   ]
  },
  {
   "cell_type": "code",
   "execution_count": 13,
   "metadata": {},
   "outputs": [
    {
     "data": {
      "text/latex": [
       "$$ \\begin{equation}\n",
       "\\mathrm{inv}\\left( \\mathrm{inv}\\left( x \\right) \\right)\n",
       "\\end{equation}\n",
       " $$"
      ],
      "text/plain": [
       "inv(inv(x))"
      ]
     },
     "metadata": {},
     "output_type": "display_data"
    }
   ],
   "source": [
    "Metatheory.rewrite(expr,rules)"
   ]
  },
  {
   "cell_type": "code",
   "execution_count": null,
   "metadata": {},
   "outputs": [],
   "source": []
  },
  {
   "cell_type": "code",
   "execution_count": 17,
   "metadata": {},
   "outputs": [
    {
     "data": {
      "text/plain": [
       "SaturationReport\n",
       "=================\n",
       "\tStop Reason: saturated\n",
       "\tIterations: 1\n",
       "\tEGraph Size: 1 eclasses, 1 nodes\n",
       "\u001b[0m\u001b[1m ────────────────────────────────────────────────────────────────────\u001b[22m\n",
       "\u001b[0m\u001b[1m                   \u001b[22m         Time                    Allocations      \n",
       "                   ───────────────────────   ────────────────────────\n",
       " Tot / % measured:      380μs /  19.1%           27.9KiB /  80.2%    \n",
       "\n",
       " Section   ncalls     time    %tot     avg     alloc    %tot      avg\n",
       " ────────────────────────────────────────────────────────────────────\n",
       " Search         1   70.5μs   97.2%  70.5μs   22.3KiB  100.0%  22.3KiB\n",
       "   1            1   8.12μs   11.2%  8.12μs      224B    1.0%     224B\n",
       "   2            1   4.71μs    6.5%  4.71μs      240B    1.0%     240B\n",
       "   8            1   4.12μs    5.7%  4.12μs      240B    1.0%     240B\n",
       "   18           1   4.12μs    5.7%  4.12μs      240B    1.0%     240B\n",
       "   12           1   3.67μs    5.1%  3.67μs      240B    1.0%     240B\n",
       "   10           1   3.50μs    4.8%  3.50μs      240B    1.0%     240B\n",
       "   11           1   3.46μs    4.8%  3.46μs      240B    1.0%     240B\n",
       "   19           1   3.21μs    4.4%  3.21μs      240B    1.0%     240B\n",
       "   13           1   3.04μs    4.2%  3.04μs      240B    1.0%     240B\n",
       "   4            1   2.71μs    3.7%  2.71μs      240B    1.0%     240B\n",
       "   20           1   2.62μs    3.6%  2.62μs      240B    1.0%     240B\n",
       "   6            1   1.67μs    2.3%  1.67μs      240B    1.0%     240B\n",
       "   17           1   1.67μs    2.3%  1.67μs      240B    1.0%     240B\n",
       "   15           1   1.50μs    2.1%  1.50μs      240B    1.0%     240B\n",
       "   14           1   1.50μs    2.1%  1.50μs      240B    1.0%     240B\n",
       "   9            1   1.50μs    2.1%  1.50μs      240B    1.0%     240B\n",
       "   16           1   1.46μs    2.0%  1.46μs      240B    1.0%     240B\n",
       "   3            1   1.46μs    2.0%  1.46μs      240B    1.0%     240B\n",
       "   7            1   1.33μs    1.8%  1.33μs      240B    1.0%     240B\n",
       "   5            1   1.17μs    1.6%  1.17μs      240B    1.0%     240B\n",
       " Apply          1   1.38μs    1.9%  1.38μs     0.00B    0.0%    0.00B\n",
       " Rebuild        1    666ns    0.9%   666ns     0.00B    0.0%    0.00B\n",
       "\u001b[0m\u001b[1m ────────────────────────────────────────────────────────────────────\u001b[22m\n"
      ]
     },
     "metadata": {},
     "output_type": "display_data"
    }
   ],
   "source": [
    "g = EGraph(expr)\n",
    "saturate!(g, rules)"
   ]
  },
  {
   "cell_type": "code",
   "execution_count": 15,
   "metadata": {},
   "outputs": [
    {
     "data": {
      "text/latex": [
       "$$ \\begin{equation}\n",
       "\\mathrm{inv}\\left( \\mathrm{inv}\\left( x \\right) \\right)\n",
       "\\end{equation}\n",
       " $$"
      ],
      "text/plain": [
       "inv(inv(x))"
      ]
     },
     "metadata": {},
     "output_type": "display_data"
    }
   ],
   "source": [
    "ex = extract!(g, astsize)"
   ]
  }
 ],
 "metadata": {
  "kernelspec": {
   "display_name": "Julia 1.9.2",
   "language": "julia",
   "name": "julia-1.9"
  },
  "language_info": {
   "file_extension": ".jl",
   "mimetype": "application/julia",
   "name": "julia",
   "version": "1.9.2"
  }
 },
 "nbformat": 4,
 "nbformat_minor": 2
}
