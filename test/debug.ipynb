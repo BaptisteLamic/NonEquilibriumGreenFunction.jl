{
 "cells": [
  {
   "cell_type": "code",
   "execution_count": 15,
   "metadata": {},
   "outputs": [
    {
     "name": "stdout",
     "output_type": "stream",
     "text": [
      "Revise.errors() = nothing\n"
     ]
    },
    {
     "data": {
      "text/plain": [
       "2×2 Matrix{SymbolicUtils.BasicSymbolic{Kernel}}:\n",
       " -((1//2)*((adjoint(G_R)*adjoint(Σ_R)) - (Σ_R*G_R)) + G_R*Σ_K + G_K*adjoint(Σ_R))  …  -((1//2)*(-(Σ_K*adjoint(G_R) + Σ_R*G_K)) + (G_R*Σ_R) - (adjoint(Σ_R)*adjoint(G_R)))\n",
       " -((adjoint(G_R)*adjoint(Σ_R)) - (Σ_R*G_R) + (3//2)*(G_R*Σ_K + G_K*adjoint(Σ_R)))     -(-(Σ_K*adjoint(G_R) + Σ_R*G_K) + (3//2)*((G_R*Σ_R) - (adjoint(Σ_R)*adjoint(G_R))))"
      ]
     },
     "execution_count": 15,
     "metadata": {},
     "output_type": "execute_result"
    }
   ],
   "source": [
    "using Revise\n",
    "@show Revise.errors()\n",
    "using Symbolics\n",
    "using NonEquilibriumGreenFunction\n",
    "using LinearAlgebra\n",
    "\n",
    "@variables G_R::Kernel G_K::Kernel\n",
    "@variables Σ_R::Kernel Σ_K::Kernel\n",
    "τz = [1 2; 2 3] // 2\n",
    "G = [0 G_R'; G_R G_K]\n",
    "Σl = [Σ_K Σ_R; Σ_R' 0]\n",
    "expr = simplify_kernel.(-(τz * (G * Σl - Σl * G)))"
   ]
  },
  {
   "cell_type": "code",
   "execution_count": 28,
   "metadata": {},
   "outputs": [
    {
     "name": "stdout",
     "output_type": "stream",
     "text": [
      "\u001b[91m\u001b[1mError During Test\u001b[22m\u001b[39m at \u001b[39m\u001b[1mIn[28]:9\u001b[22m\n",
      "  Test threw exception\n",
      "  Expression: isequal(Dy(Gx * Gy) |> expand_derivatives, Gx * Dy(Gy))\n",
      "  MethodError: no method matching *(::SymbolicOperator, ::SymbolicUtils.BasicSymbolic{SymbolicOperator})\n",
      "  \n",
      "  \u001b[0mClosest candidates are:\n",
      "  \u001b[0m  *(::Any, ::Any, \u001b[91m::Any\u001b[39m, \u001b[91m::Any...\u001b[39m)\n",
      "  \u001b[0m\u001b[90m   @\u001b[39m \u001b[90mBase\u001b[39m \u001b[90m\u001b[4moperators.jl:578\u001b[24m\u001b[39m\n",
      "  \u001b[0m  *(\u001b[91m::SpecialFunctions.SimplePoly\u001b[39m, ::Any)\n",
      "  \u001b[0m\u001b[90m   @\u001b[39m \u001b[36mSpecialFunctions\u001b[39m \u001b[90m~/.julia/packages/SpecialFunctions/sKqs4/src/\u001b[39m\u001b[90m\u001b[4mexpint.jl:8\u001b[24m\u001b[39m\n",
      "  \u001b[0m  *(\u001b[91m::SymbolicUtils.Symbolic{K}\u001b[39m, ::SymbolicUtils.Symbolic{K}) where K<:NonEquilibriumGreenFunction.AbstractOperator\n",
      "  \u001b[0m\u001b[90m   @\u001b[39m \u001b[35mNonEquilibriumGreenFunction\u001b[39m \u001b[90m~/.julia/dev/nonequilibriumgreenfunction.jl/src/Kernels/\u001b[39m\u001b[90m\u001b[4msymbolics_extension.jl:142\u001b[24m\u001b[39m\n",
      "  \u001b[0m  ...\n",
      "  \n",
      "  Stacktrace:\n",
      "   [1] top-level scope\n",
      "  \u001b[90m   @\u001b[39m \u001b[90m~/.julia/juliaup/julia-1.9.2+0.aarch64.apple.darwin14/share/julia/stdlib/v1.9/Test/src/\u001b[39m\u001b[90m\u001b[4mTest.jl:478\u001b[24m\u001b[39m\n",
      "   [2] \u001b[0m\u001b[1meval\u001b[22m\n",
      "  \u001b[90m   @\u001b[39m \u001b[90m./\u001b[39m\u001b[90m\u001b[4mboot.jl:370\u001b[24m\u001b[39m\u001b[90m [inlined]\u001b[39m\n",
      "   [3] \u001b[0m\u001b[1minclude_string\u001b[22m\u001b[0m\u001b[1m(\u001b[22m\u001b[90mmapexpr\u001b[39m::\u001b[0mtypeof(REPL.softscope), \u001b[90mmod\u001b[39m::\u001b[0mModule, \u001b[90mcode\u001b[39m::\u001b[0mString, \u001b[90mfilename\u001b[39m::\u001b[0mString\u001b[0m\u001b[1m)\u001b[22m\n",
      "  \u001b[90m   @\u001b[39m \u001b[90mBase\u001b[39m \u001b[90m./\u001b[39m\u001b[90m\u001b[4mloading.jl:1903\u001b[24m\u001b[39m\n",
      "   [4] \u001b[0m\u001b[1msoftscope_include_string\u001b[22m\u001b[0m\u001b[1m(\u001b[22m\u001b[90mm\u001b[39m::\u001b[0mModule, \u001b[90mcode\u001b[39m::\u001b[0mString, \u001b[90mfilename\u001b[39m::\u001b[0mString\u001b[0m\u001b[1m)\u001b[22m\n",
      "  \u001b[90m   @\u001b[39m \u001b[32mSoftGlobalScope\u001b[39m \u001b[90m~/.julia/packages/SoftGlobalScope/u4UzH/src/\u001b[39m\u001b[90m\u001b[4mSoftGlobalScope.jl:65\u001b[24m\u001b[39m\n",
      "   [5] \u001b[0m\u001b[1mexecute_request\u001b[22m\u001b[0m\u001b[1m(\u001b[22m\u001b[90msocket\u001b[39m::\u001b[0mZMQ.Socket, \u001b[90mmsg\u001b[39m::\u001b[0mIJulia.Msg\u001b[0m\u001b[1m)\u001b[22m\n",
      "  \u001b[90m   @\u001b[39m \u001b[33mIJulia\u001b[39m \u001b[90m~/.julia/packages/IJulia/Vo51o/src/\u001b[39m\u001b[90m\u001b[4mexecute_request.jl:67\u001b[24m\u001b[39m\n",
      "   [6] \u001b[0m\u001b[1m#invokelatest#2\u001b[22m\n",
      "  \u001b[90m   @\u001b[39m \u001b[90m./\u001b[39m\u001b[90m\u001b[4messentials.jl:816\u001b[24m\u001b[39m\u001b[90m [inlined]\u001b[39m\n",
      "   [7] \u001b[0m\u001b[1minvokelatest\u001b[22m\n",
      "  \u001b[90m   @\u001b[39m \u001b[90m./\u001b[39m\u001b[90m\u001b[4messentials.jl:813\u001b[24m\u001b[39m\u001b[90m [inlined]\u001b[39m\n",
      "   [8] \u001b[0m\u001b[1meventloop\u001b[22m\u001b[0m\u001b[1m(\u001b[22m\u001b[90msocket\u001b[39m::\u001b[0mZMQ.Socket\u001b[0m\u001b[1m)\u001b[22m\n",
      "  \u001b[90m   @\u001b[39m \u001b[33mIJulia\u001b[39m \u001b[90m~/.julia/packages/IJulia/Vo51o/src/\u001b[39m\u001b[90m\u001b[4meventloop.jl:8\u001b[24m\u001b[39m\n",
      "   [9] \u001b[0m\u001b[1m(::IJulia.var\"#15#18\")\u001b[22m\u001b[0m\u001b[1m(\u001b[22m\u001b[0m\u001b[1m)\u001b[22m\n",
      "  \u001b[90m   @\u001b[39m \u001b[33mIJulia\u001b[39m \u001b[90m./\u001b[39m\u001b[90m\u001b[4mtask.jl:514\u001b[24m\u001b[39m\n"
     ]
    },
    {
     "ename": "LoadError",
     "evalue": "\u001b[91mThere was an error during testing\u001b[39m",
     "output_type": "error",
     "traceback": [
      "\u001b[91mThere was an error during testing\u001b[39m",
      "",
      "Stacktrace:",
      " [1] record(ts::Test.FallbackTestSet, t::Union{Test.Error, Test.Fail})",
      "   @ Test ~/.julia/juliaup/julia-1.9.2+0.aarch64.apple.darwin14/share/julia/stdlib/v1.9/Test/src/Test.jl:960",
      " [2] do_test(result::Test.ExecutionResult, orig_expr::Any)",
      "   @ Test ~/.julia/juliaup/julia-1.9.2+0.aarch64.apple.darwin14/share/julia/stdlib/v1.9/Test/src/Test.jl:670",
      " [3] top-level scope",
      "   @ ~/.julia/juliaup/julia-1.9.2+0.aarch64.apple.darwin14/share/julia/stdlib/v1.9/Test/src/Test.jl:478"
     ]
    }
   ],
   "source": [
    "using Symbolics\n",
    "using Test\n",
    "@variables x,y\n",
    "Dx = Differential(x)\n",
    "Dy = Differential(y)\n",
    "@variables Gx(x)::Kernel\n",
    "@variables Gy(y)::Kernel\n",
    "@test Dy(Gx) |> expand_derivatives == 0\n",
    "@test isequal(Dy(Gx*Gy) |> expand_derivatives, Gx*Dy(Gy))"
   ]
  },
  {
   "cell_type": "code",
   "execution_count": 38,
   "metadata": {},
   "outputs": [
    {
     "data": {
      "text/plain": [
       "SymbolicOperator(Gx(x)*Differential(y)(Gy(y)))"
      ]
     },
     "execution_count": 38,
     "metadata": {},
     "output_type": "execute_result"
    }
   ],
   "source": [
    "Dy(Symbolics.unwrap(Gx*Gy))|> expand_derivatives |> Symbolics.wrap"
   ]
  },
  {
   "cell_type": "code",
   "execution_count": 46,
   "metadata": {},
   "outputs": [
    {
     "data": {
      "text/latex": [
       "$$ \\begin{equation}\n",
       "\\mathrm{Gx}\\left( x \\right) \\frac{\\mathrm{d} \\mathrm{Gy}\\left( y \\right)}{\\mathrm{d}y}\n",
       "\\end{equation}\n",
       " $$"
      ],
      "text/plain": [
       "Gx(x)*Differential(y)(Gy(y))"
      ]
     },
     "metadata": {},
     "output_type": "display_data"
    }
   ],
   "source": [
    "Dy(Gx*Gy) |> expand_derivatives |> display"
   ]
  },
  {
   "cell_type": "code",
   "execution_count": 42,
   "metadata": {},
   "outputs": [
    {
     "data": {
      "text/plain": [
       "Differential"
      ]
     },
     "execution_count": 42,
     "metadata": {},
     "output_type": "execute_result"
    }
   ],
   "source": [
    "typeof(Dx)"
   ]
  },
  {
   "cell_type": "code",
   "execution_count": 12,
   "metadata": {},
   "outputs": [
    {
     "data": {
      "text/plain": [
       "SymbolicOperator(G_R)"
      ]
     },
     "execution_count": 12,
     "metadata": {},
     "output_type": "execute_result"
    }
   ],
   "source": [
    "1*G_R"
   ]
  },
  {
   "cell_type": "code",
   "execution_count": 2,
   "metadata": {},
   "outputs": [
    {
     "name": "stdout",
     "output_type": "stream",
     "text": [
      "search:\n",
      "\n",
      "Couldn't find \u001b[36mSymbolicOperator\u001b[39m\n",
      "Perhaps you meant numerator\n"
     ]
    },
    {
     "data": {
      "text/latex": [
       "No documentation found.\n",
       "\n",
       "Binding \\texttt{SymbolicOperator} does not exist.\n",
       "\n"
      ],
      "text/markdown": [
       "No documentation found.\n",
       "\n",
       "Binding `SymbolicOperator` does not exist.\n"
      ],
      "text/plain": [
       "  No documentation found.\n",
       "\n",
       "  Binding \u001b[36mSymbolicOperator\u001b[39m does not exist."
      ]
     },
     "execution_count": 2,
     "metadata": {},
     "output_type": "execute_result"
    }
   ],
   "source": [
    "?SymbolicOperator"
   ]
  },
  {
   "cell_type": "code",
   "execution_count": 60,
   "metadata": {},
   "outputs": [
    {
     "data": {
      "text/latex": [
       "$$ \\begin{equation}\n",
       "\\mathrm{adjoint}\\left( G_{R} \\right)\n",
       "\\end{equation}\n",
       " $$"
      ],
      "text/plain": [
       "adjoint(G_R)"
      ]
     },
     "execution_count": 60,
     "metadata": {},
     "output_type": "execute_result"
    }
   ],
   "source": [
    "G_R'"
   ]
  },
  {
   "cell_type": "code",
   "execution_count": 29,
   "metadata": {},
   "outputs": [
    {
     "ename": "LoadError",
     "evalue": "syntax: invalid identifier name \"?\"",
     "output_type": "error",
     "traceback": [
      "syntax: invalid identifier name \"?\"",
      "",
      "Stacktrace:",
      " [1] top-level scope",
      "   @ In[29]:2"
     ]
    }
   ],
   "source": [
    "using Symbolics"
   ]
  },
  {
   "cell_type": "code",
   "execution_count": 34,
   "metadata": {},
   "outputs": [
    {
     "data": {
      "text/plain": [
       "Vector{Num}\u001b[90m (alias for \u001b[39m\u001b[90mArray{Num, 1}\u001b[39m\u001b[90m)\u001b[39m"
      ]
     },
     "execution_count": 34,
     "metadata": {},
     "output_type": "execute_result"
    }
   ],
   "source": [
    "@variables x\n",
    "typeof([x, 0])\n"
   ]
  },
  {
   "cell_type": "code",
   "execution_count": 48,
   "metadata": {},
   "outputs": [
    {
     "data": {
      "text/plain": [
       "Int64"
      ]
     },
     "execution_count": 48,
     "metadata": {},
     "output_type": "execute_result"
    }
   ],
   "source": []
  },
  {
   "cell_type": "code",
   "execution_count": 38,
   "metadata": {},
   "outputs": [
    {
     "data": {
      "text/plain": [
       "SymbolicUtils.BasicSymbolic{Kernel}"
      ]
     },
     "execution_count": 38,
     "metadata": {},
     "output_type": "execute_result"
    }
   ],
   "source": [
    "typeof(G_R)"
   ]
  },
  {
   "cell_type": "code",
   "execution_count": 43,
   "metadata": {},
   "outputs": [
    {
     "data": {
      "text/plain": [
       "(Num, Num)"
      ]
     },
     "execution_count": 43,
     "metadata": {},
     "output_type": "execute_result"
    }
   ],
   "source": [
    "promote(x,0) .|> typeof "
   ]
  },
  {
   "cell_type": "code",
   "execution_count": 42,
   "metadata": {},
   "outputs": [
    {
     "ename": "LoadError",
     "evalue": "promotion of types SymbolicUtils.BasicSymbolic{Kernel} and Int64 failed to change any arguments",
     "output_type": "error",
     "traceback": [
      "promotion of types SymbolicUtils.BasicSymbolic{Kernel} and Int64 failed to change any arguments",
      "",
      "Stacktrace:",
      " [1] error(::String, ::String, ::String)",
      "   @ Base ./error.jl:44",
      " [2] sametype_error(input::Tuple{SymbolicUtils.BasicSymbolic{Kernel}, Int64})",
      "   @ Base ./promotion.jl:405",
      " [3] not_sametype(x::Tuple{SymbolicUtils.BasicSymbolic{Kernel}, Int64}, y::Tuple{SymbolicUtils.BasicSymbolic{Kernel}, Int64})",
      "   @ Base ./promotion.jl:399",
      " [4] promote(x::SymbolicUtils.BasicSymbolic{Kernel}, y::Int64)",
      "   @ Base ./promotion.jl:382",
      " [5] top-level scope",
      "   @ In[42]:1"
     ]
    }
   ],
   "source": [
    "promote(G_R,0)"
   ]
  },
  {
   "cell_type": "code",
   "execution_count": 46,
   "metadata": {},
   "outputs": [
    {
     "data": {
      "text/latex": [
       "\\begin{verbatim}\n",
       "Num(val)\n",
       "\\end{verbatim}\n",
       "Wrap anything in a type that is a subtype of Real\n",
       "\n"
      ],
      "text/markdown": [
       "```\n",
       "Num(val)\n",
       "```\n",
       "\n",
       "Wrap anything in a type that is a subtype of Real\n"
      ],
      "text/plain": [
       "\u001b[36m  Num(val)\u001b[39m\n",
       "\n",
       "  Wrap anything in a type that is a subtype of Real"
      ]
     },
     "execution_count": 46,
     "metadata": {},
     "output_type": "execute_result"
    }
   ],
   "source": [
    "? Symbolics.Num"
   ]
  },
  {
   "cell_type": "code",
   "execution_count": null,
   "metadata": {},
   "outputs": [],
   "source": []
  }
 ],
 "metadata": {
  "kernelspec": {
   "display_name": "Julia 1.9.2",
   "language": "julia",
   "name": "julia-1.9"
  },
  "language_info": {
   "file_extension": ".jl",
   "mimetype": "application/julia",
   "name": "julia",
   "version": "1.9.2"
  },
  "orig_nbformat": 4
 },
 "nbformat": 4,
 "nbformat_minor": 2
}
