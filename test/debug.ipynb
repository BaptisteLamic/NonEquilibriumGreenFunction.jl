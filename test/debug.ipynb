{
 "cells": [
  {
   "cell_type": "code",
   "execution_count": 1,
   "metadata": {},
   "outputs": [
    {
     "name": "stdout",
     "output_type": "stream",
     "text": [
      "Revise.errors() = nothing\n"
     ]
    }
   ],
   "source": [
    "using Revise\n",
    "@show Revise.errors()\n",
    "using Symbolics\n",
    "using NonEquilibriumGreenFunction\n",
    "using LinearAlgebra\n",
    "using Test"
   ]
  },
  {
   "cell_type": "code",
   "execution_count": 2,
   "metadata": {},
   "outputs": [
    {
     "data": {
      "text/plain": [
       "\"SymbolicOperator(Differential(x)(LinearAlgebra.tr(log(inv(Gx)))))\""
      ]
     },
     "execution_count": 2,
     "metadata": {},
     "output_type": "execute_result"
    }
   ],
   "source": [
    "using Symbolics\n",
    "using LinearAlgebra\n",
    "@variables x,y\n",
    "Dx = Differential(x)\n",
    "Dy = Differential(y)\n",
    "@variables Gx::Kernel\n",
    "@variables Gy(y)::Kernel\n",
    "@test Dy(Gx) |> expand_derivatives == 0\n",
    "@test isequal(Dy(Gx*Gy) |> expand_derivatives, Gx*Dy(Gy))\n",
    "@test isequal(Dy(Gy*Gx) |> expand_derivatives, Dy(Gy)*Gx)\n",
    "@test !isequal(Dy(Gy*Gx) |> expand_derivatives, Gx*Dy(Gy))\n",
    "@test isequal(Dy(Gy + Gx) |> expand_derivatives, Dy(Gy))\n",
    "@test isequal(Dy(-Gy)|> expand_derivatives, - Dy(Gy)|> expand_derivatives)\n",
    "# We do not want the default derivation rules to spill our calculation\n",
    " Dx(tr(log(inv(Gx)))) |> string"
   ]
  },
  {
   "cell_type": "code",
   "execution_count": 3,
   "metadata": {},
   "outputs": [
    {
     "data": {
      "text/latex": [
       "$$ \\begin{equation}\n",
       "0\n",
       "\\end{equation}\n",
       " $$"
      ],
      "text/plain": [
       "0"
      ]
     },
     "execution_count": 3,
     "metadata": {},
     "output_type": "execute_result"
    }
   ],
   "source": [
    "(Dx(tr(log(inv(Gx)))) |> expand_derivatives)"
   ]
  },
  {
   "cell_type": "code",
   "execution_count": 8,
   "metadata": {},
   "outputs": [
    {
     "data": {
      "text/plain": [
       "true"
      ]
     },
     "execution_count": 8,
     "metadata": {},
     "output_type": "execute_result"
    }
   ],
   "source": [
    "@variables G_R::Kernel G_K::Kernel\n",
    "@variables Σ_R::Kernel Σ_K::Kernel\n",
    "τz = [1 2; 2 3] // 2\n",
    "G = [0 G_R'; G_R G_K]\n",
    "Σl = [Σ_K Σ_R; Σ_R' 0]\n",
    "expr = -tr(τz * (G * Σl - Σl * G)) isa SymbolicOperator"
   ]
  },
  {
   "cell_type": "code",
   "execution_count": 5,
   "metadata": {},
   "outputs": [
    {
     "data": {
      "text/plain": [
       "2×2 Matrix{DataType}:\n",
       " SymbolicOperator  SymbolicOperator\n",
       " SymbolicOperator  SymbolicOperator"
      ]
     },
     "execution_count": 5,
     "metadata": {},
     "output_type": "execute_result"
    }
   ],
   "source": [
    "[typeof(G[p]*G[q] ) for p in 1:2, q in 1:2] "
   ]
  },
  {
   "cell_type": "code",
   "execution_count": 126,
   "metadata": {},
   "outputs": [
    {
     "data": {
      "text/plain": [
       "2×2 Matrix{Any}:\n",
       " 0     adjoint(G_R)\n",
       "  G_R  G_K"
      ]
     },
     "execution_count": 126,
     "metadata": {},
     "output_type": "execute_result"
    }
   ],
   "source": [
    "A = Symbolics.unwrap.(G)"
   ]
  },
  {
   "cell_type": "code",
   "execution_count": 127,
   "metadata": {},
   "outputs": [
    {
     "data": {
      "text/plain": [
       "2×2 Matrix{SymbolicOperator}:\n",
       " SymbolicOperator(Gx)  SymbolicOperator(Gx)\n",
       " SymbolicOperator(Gx)  SymbolicOperator(Gx)"
      ]
     },
     "execution_count": 127,
     "metadata": {},
     "output_type": "execute_result"
    }
   ],
   "source": [
    "A = [Gx Gx; Gx Gx] "
   ]
  },
  {
   "cell_type": "code",
   "execution_count": 129,
   "metadata": {},
   "outputs": [
    {
     "data": {
      "text/plain": [
       "2×2 Matrix{Any}:\n",
       " SymbolicOperator(Gx*Gx + Gx*Gx)  SymbolicOperator(Gx*Gx + Gx*Gx)\n",
       " SymbolicOperator(Gx*Gx + Gx*Gx)  SymbolicOperator(Gx*Gx + Gx*Gx)"
      ]
     },
     "execution_count": 129,
     "metadata": {},
     "output_type": "execute_result"
    }
   ],
   "source": [
    "A*A"
   ]
  },
  {
   "cell_type": "code",
   "execution_count": 54,
   "metadata": {},
   "outputs": [
    {
     "data": {
      "text/plain": [
       "2×2 Matrix{Any}:\n",
       " SymbolicOperator(G_R*G_R + G_R*G_R)  SymbolicOperator(G_R*G_R + G_R*G_K)\n",
       " SymbolicOperator(G_R*G_R + G_K*G_R)  SymbolicOperator(G_R*G_R + G_K*G_K)"
      ]
     },
     "execution_count": 54,
     "metadata": {},
     "output_type": "execute_result"
    }
   ],
   "source": [
    "G*G"
   ]
  },
  {
   "cell_type": "code",
   "execution_count": null,
   "metadata": {},
   "outputs": [],
   "source": []
  }
 ],
 "metadata": {
  "kernelspec": {
   "display_name": "Julia 1.9.2",
   "language": "julia",
   "name": "julia-1.9"
  },
  "language_info": {
   "file_extension": ".jl",
   "mimetype": "application/julia",
   "name": "julia",
   "version": "1.9.2"
  },
  "orig_nbformat": 4
 },
 "nbformat": 4,
 "nbformat_minor": 2
}
