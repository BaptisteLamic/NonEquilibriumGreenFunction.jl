{
 "cells": [
  {
   "cell_type": "code",
   "execution_count": 112,
   "metadata": {},
   "outputs": [],
   "source": [
    "Revise.errors()"
   ]
  },
  {
   "cell_type": "code",
   "execution_count": 113,
   "metadata": {},
   "outputs": [
    {
     "data": {
      "text/latex": [
       "$$ \\begin{equation}\n",
       "\\frac{\\mathrm{d} \\mathrm{Gy}\\left( y \\right)}{\\mathrm{d}y} \\mathrm{Gx}\\left( x \\right)\n",
       "\\end{equation}\n",
       " $$"
      ],
      "text/plain": [
       "Differential(y)(Gy(y))*Gx(x)"
      ]
     },
     "execution_count": 113,
     "metadata": {},
     "output_type": "execute_result"
    }
   ],
   "source": [
    "using Revise\n",
    "using Test\n",
    "using NonEquilibriumGreenFunction\n",
    "using Symbolics\n",
    "@variables x,y\n",
    "Dx = Differential(x)\n",
    "Dy = Differential(y)\n",
    "@variables Gx(x)::Kernel\n",
    "@variables Gy(y)::Kernel\n",
    "Dy(Gy*Gx) |> expand_derivatives"
   ]
  },
  {
   "cell_type": "code",
   "execution_count": 117,
   "metadata": {},
   "outputs": [
    {
     "data": {
      "text/plain": [
       "false"
      ]
     },
     "execution_count": 117,
     "metadata": {},
     "output_type": "execute_result"
    }
   ],
   "source": [
    "using Symbolics\n",
    "@variables x,y\n",
    "Dx = Differential(x)\n",
    "Dy = Differential(y)\n",
    "@variables Gx(x)::Kernel\n",
    "@variables Gy(y)::Kernel\n",
    "@test isequal(Dy(Gx - Gy) |> expand_derivatives, -Dy(Gy))"
   ]
  },
  {
   "cell_type": "code",
   "execution_count": 118,
   "metadata": {},
   "outputs": [
    {
     "data": {
      "text/latex": [
       "$$ \\begin{equation}\n",
       " - \\frac{\\mathrm{d} \\mathrm{Gy}\\left( y \\right)}{\\mathrm{d}y}\n",
       "\\end{equation}\n",
       " $$"
      ],
      "text/plain": [
       "-Differential(y)(Gy(y))"
      ]
     },
     "execution_count": 118,
     "metadata": {},
     "output_type": "execute_result"
    }
   ],
   "source": [
    "@test (Dy(Gx - Gy) |> expand_derivatives, -Dy(Gy)"
   ]
  },
  {
   "cell_type": "code",
   "execution_count": 135,
   "metadata": {},
   "outputs": [
    {
     "data": {
      "text/plain": [
       "true"
      ]
     },
     "execution_count": 135,
     "metadata": {},
     "output_type": "execute_result"
    }
   ],
   "source": [
    "isequal(Dy(-Gy)|> expand_derivatives, -1 * Dy(Gy)|> expand_derivatives)"
   ]
  },
  {
   "cell_type": "code",
   "execution_count": 134,
   "metadata": {},
   "outputs": [
    {
     "data": {
      "text/plain": [
       "* (generic function with 1109 methods)"
      ]
     },
     "execution_count": 134,
     "metadata": {},
     "output_type": "execute_result"
    }
   ],
   "source": [
    "Dy(-Gy)|> expand_derivatives |> operation"
   ]
  },
  {
   "cell_type": "code",
   "execution_count": 133,
   "metadata": {},
   "outputs": [
    {
     "data": {
      "text/plain": [
       "- (generic function with 576 methods)"
      ]
     },
     "execution_count": 133,
     "metadata": {},
     "output_type": "execute_result"
    }
   ],
   "source": [
    "-Dy(Gy)|> expand_derivatives |> operation"
   ]
  },
  {
   "cell_type": "code",
   "execution_count": 48,
   "metadata": {},
   "outputs": [
    {
     "data": {
      "text/plain": [
       "false"
      ]
     },
     "execution_count": 48,
     "metadata": {},
     "output_type": "execute_result"
    }
   ],
   "source": [
    "expand_derivatives( Dy(Gy*Gx) ) == Dy(Gy)*Gx"
   ]
  },
  {
   "cell_type": "code",
   "execution_count": 54,
   "metadata": {},
   "outputs": [
    {
     "data": {
      "text/plain": [
       "false"
      ]
     },
     "execution_count": 54,
     "metadata": {},
     "output_type": "execute_result"
    }
   ],
   "source": [
    "arguments(Dy(Gy)*Gx)[1] isa Symbolics.Differential"
   ]
  },
  {
   "cell_type": "code",
   "execution_count": 62,
   "metadata": {},
   "outputs": [
    {
     "data": {
      "text/plain": [
       "true"
      ]
     },
     "execution_count": 62,
     "metadata": {},
     "output_type": "execute_result"
    }
   ],
   "source": [
    "operation(arguments(Dy(Gy)*Gx)[1]) isa Symbolics.Differential"
   ]
  },
  {
   "cell_type": "code",
   "execution_count": 63,
   "metadata": {},
   "outputs": [
    {
     "data": {
      "text/latex": [
       "$$ \\begin{equation}\n",
       "g\\left( v \\right) \\frac{\\mathrm{d} f\\left( u \\right)}{\\mathrm{d}u}\n",
       "\\end{equation}\n",
       " $$"
      ],
      "text/plain": [
       "g(v)*Differential(u)(f(u))"
      ]
     },
     "execution_count": 63,
     "metadata": {},
     "output_type": "execute_result"
    }
   ],
   "source": [
    "using Test\n",
    "using NonEquilibriumGreenFunction\n",
    "using Symbolics\n",
    "@variables u,v\n",
    "Du = Differential(u)\n",
    "@variables f(u) g(v)\n",
    "Du(f*g) |> expand_derivatives"
   ]
  },
  {
   "cell_type": "code",
   "execution_count": 71,
   "metadata": {},
   "outputs": [
    {
     "data": {
      "text/plain": [
       "true"
      ]
     },
     "execution_count": 71,
     "metadata": {},
     "output_type": "execute_result"
    }
   ],
   "source": [
    "isequal((Du(f*g) |> expand_derivatives), (Du(f*g) |> expand_derivatives) )"
   ]
  },
  {
   "cell_type": "code",
   "execution_count": 73,
   "metadata": {},
   "outputs": [
    {
     "name": "stdout",
     "output_type": "stream",
     "text": [
      "causality(kernelA + kernelB) = Acausal()\n"
     ]
    },
    {
     "data": {
      "text/plain": [
       "Acausal()"
      ]
     },
     "execution_count": 73,
     "metadata": {},
     "output_type": "execute_result"
    }
   ],
   "source": [
    "using LinearAlgebra\n",
    "N, Dt = 256, 2.0\n",
    "ax = LinRange(-Dt / 2, Dt, N)\n",
    "c = 100\n",
    "kernelA = discretize_retardedkernel(ax, (x, y) -> cos(x - y), compression=NONCompression())\n",
    "kernelB = discretize_advancedkernel(ax, (x, y) -> cos(x - y), compression=NONCompression())\n",
    "kernelC = discretize_retardedkernel(ax, (x, y) -> cos(x - y), compression=NONCompression())\n",
    "@assert kernelA != kernelB\n",
    "@assert kernelA == deepcopy(kernelA)\n",
    "@assert kernelC == kernelA\n",
    "@show causality(kernelA + kernelB)"
   ]
  },
  {
   "cell_type": "code",
   "execution_count": 90,
   "metadata": {},
   "outputs": [
    {
     "name": "stdout",
     "output_type": "stream",
     "text": [
      "search: \u001b[0m\u001b[1mS\u001b[22m\u001b[0m\u001b[1my\u001b[22m\u001b[0m\u001b[1mm\u001b[22m\u001b[0m\u001b[1mb\u001b[22m\u001b[0m\u001b[1mo\u001b[22m\u001b[0m\u001b[1ml\u001b[22m\u001b[0m\u001b[1mi\u001b[22m\u001b[0m\u001b[1mc\u001b[22m\u001b[0m\u001b[1mU\u001b[22m\u001b[0m\u001b[1mt\u001b[22m\u001b[0m\u001b[1mi\u001b[22m\u001b[0m\u001b[1ml\u001b[22m\u001b[0m\u001b[1ms\u001b[22m\n",
      "\n"
     ]
    },
    {
     "data": {
      "text/latex": [
       "<h1 align=\"center\"><a href=\"https://juliasymbolics.github.io/SymbolicUtils.jl/\">SymbolicUtils.jl</a></h1>\n",
       "\n",
       "<p align=\"center\">   <a href=\"https://github.com/JuliaSymbolics/SymbolicUtils.jl/actions\">     <img src=\"https://github.com/JuliaSymbolics/SymbolicUtils.jl/workflows/CI/badge.svg\"          alt=\"CI\">   </a>   </a>   <a href=\"https://codecov.io/gh/JuliaSymbolics/SymbolicUtils.jl\">     <img src=\"https://codecov.io/gh/JuliaSymbolics/SymbolicUtils.jl/branch/master/graph/badge.svg?token=UL72EBCQRW\"/>   </a> </p>\n",
       "\n",
       "SymbolicUtils.jl provides various utilities for symbolic computing. SymbolicUtils.jl is what one would use to build a Computer Algebra System (CAS). If you're looking for a complete CAS, similar to SymPy or Mathematica, see \\href{https://github.com/JuliaSymbolics/Symbolics.jl}{Symbolics.jl}. If you want to build a crazy CAS for your weird Octonian algebras, you've come to the right place.\n",
       "\n",
       "\\href{https://symbolicutils.juliasymbolics.org/#creating_symbolic_expressions}{Symbols in SymbolicUtils} carry type information. Operations on them propagate this information. \\href{https://symbolicutils.juliasymbolics.org/rewrite/#rule-based_rewriting}{A rule-based rewriting language} can be used to find subexpressions that satisfy arbitrary conditions and apply arbitrary transformations on the matches. The library also contains a set of useful \\href{https://juliasymbolics.github.io/SymbolicUtils.jl/#simplification}{simplification} rules for expressions of numeric symbols and numbers. These can be remixed and extended for special purposes.\n",
       "\n",
       "If you are a Julia package develper in need of a rule rewriting system for your own types, have a look at the \\href{https://symbolicutils.juliasymbolics.org/interface/}{interfacing guide}.\n",
       "\n",
       "\\href{https://juliasymbolics.github.io/SymbolicUtils.jl/}{\\textbf{Go to the manual}}\n",
       "\n",
       "SymbolicUtils.jl is on the general registry and can be added the usual way:\n",
       "\n",
       "\\begin{verbatim}\n",
       "pkg> add SymbolicUtils\n",
       "\\end{verbatim}\n",
       "or\n",
       "\n",
       "\\begin{verbatim}\n",
       "julia> using Pkg; Pkg.add(\"SymbolicUtils\")\n",
       "\\end{verbatim}\n",
       "\\subsubsection{\"I don't want to read your manual, just show me some cool code\"}\n",
       "\\begin{verbatim}\n",
       "julia> using SymbolicUtils\n",
       "\n",
       "julia> SymbolicUtils.show_simplified[] = true\n",
       "\n",
       "julia> @syms x::Real y::Real z::Complex f(::Number)::Real\n",
       "(x, y, z, f(::Number)::Real)\n",
       "\n",
       "julia> 2x^2 - y + x^2\n",
       "(3 * (x ^ 2)) + (-1 * y)\n",
       "\n",
       "julia> f(sin(x)^2 + cos(x)^2) + z\n",
       "f(1) + z\n",
       "\n",
       "julia> r = @rule sinh(im * ~x) => sin(~x)\n",
       "sinh(im * ~x) => sin(~x)\n",
       "\n",
       "julia> r(sinh(im * y))\n",
       "sin(y)\n",
       "\n",
       "julia> simplify(cos(y)^2 + sinh(im*y)^2, RuleSet([r]))\n",
       "1\n",
       "\\end{verbatim}\n",
       "\\section{Citations}\n",
       "\\begin{itemize}\n",
       "\\item The pattern matcher is an adaption of the one by Gerald Jay Sussman (as seen in \\href{https://groups.csail.mit.edu/mac/users/gjs/6.945/}{6.945} at MIT), his use of symbolic programming in the book \\href{https://groups.csail.mit.edu/mac/users/gjs/6946/sicm-html/book.html}{SICM} inspired this package.\n",
       "\n",
       "\n",
       "\\item \\href{https://github.com/HarrisonGrodin/Rewrite.jl}{Rewrite.jl} and \\href{https://github.com/HarrisonGrodin/Simplify.jl}{Simplify.jl} by \\href{https://github.com/HarrisonGrodin}{Harrison Grodin} also inspired this package.\n",
       "\n",
       "\\end{itemize}\n"
      ],
      "text/markdown": [
       "<h1 align=\"center\"><a href=\"https://juliasymbolics.github.io/SymbolicUtils.jl/\">SymbolicUtils.jl</a></h1>\n",
       "\n",
       "<p align=\"center\">   <a href=\"https://github.com/JuliaSymbolics/SymbolicUtils.jl/actions\">     <img src=\"https://github.com/JuliaSymbolics/SymbolicUtils.jl/workflows/CI/badge.svg\"          alt=\"CI\">   </a>   </a>   <a href=\"https://codecov.io/gh/JuliaSymbolics/SymbolicUtils.jl\">     <img src=\"https://codecov.io/gh/JuliaSymbolics/SymbolicUtils.jl/branch/master/graph/badge.svg?token=UL72EBCQRW\"/>   </a> </p>\n",
       "\n",
       "SymbolicUtils.jl provides various utilities for symbolic computing. SymbolicUtils.jl is what one would use to build a Computer Algebra System (CAS). If you're looking for a complete CAS, similar to SymPy or Mathematica, see [Symbolics.jl](https://github.com/JuliaSymbolics/Symbolics.jl). If you want to build a crazy CAS for your weird Octonian algebras, you've come to the right place.\n",
       "\n",
       "[Symbols in SymbolicUtils](https://symbolicutils.juliasymbolics.org/#creating_symbolic_expressions) carry type information. Operations on them propagate this information. [A rule-based rewriting language](https://symbolicutils.juliasymbolics.org/rewrite/#rule-based_rewriting) can be used to find subexpressions that satisfy arbitrary conditions and apply arbitrary transformations on the matches. The library also contains a set of useful [simplification](https://juliasymbolics.github.io/SymbolicUtils.jl/#simplification) rules for expressions of numeric symbols and numbers. These can be remixed and extended for special purposes.\n",
       "\n",
       "If you are a Julia package develper in need of a rule rewriting system for your own types, have a look at the [interfacing guide](https://symbolicutils.juliasymbolics.org/interface/).\n",
       "\n",
       "[**Go to the manual**](https://juliasymbolics.github.io/SymbolicUtils.jl/)\n",
       "\n",
       "SymbolicUtils.jl is on the general registry and can be added the usual way:\n",
       "\n",
       "```julia\n",
       "pkg> add SymbolicUtils\n",
       "```\n",
       "\n",
       "or\n",
       "\n",
       "```julia\n",
       "julia> using Pkg; Pkg.add(\"SymbolicUtils\")\n",
       "```\n",
       "\n",
       "### \"I don't want to read your manual, just show me some cool code\"\n",
       "\n",
       "```julia\n",
       "julia> using SymbolicUtils\n",
       "\n",
       "julia> SymbolicUtils.show_simplified[] = true\n",
       "\n",
       "julia> @syms x::Real y::Real z::Complex f(::Number)::Real\n",
       "(x, y, z, f(::Number)::Real)\n",
       "\n",
       "julia> 2x^2 - y + x^2\n",
       "(3 * (x ^ 2)) + (-1 * y)\n",
       "\n",
       "julia> f(sin(x)^2 + cos(x)^2) + z\n",
       "f(1) + z\n",
       "\n",
       "julia> r = @rule sinh(im * ~x) => sin(~x)\n",
       "sinh(im * ~x) => sin(~x)\n",
       "\n",
       "julia> r(sinh(im * y))\n",
       "sin(y)\n",
       "\n",
       "julia> simplify(cos(y)^2 + sinh(im*y)^2, RuleSet([r]))\n",
       "1\n",
       "```\n",
       "\n",
       "# Citations\n",
       "\n",
       "  * The pattern matcher is an adaption of the one by Gerald Jay Sussman (as seen in [6.945](https://groups.csail.mit.edu/mac/users/gjs/6.945/) at MIT), his use of symbolic programming in the book [SICM](https://groups.csail.mit.edu/mac/users/gjs/6946/sicm-html/book.html) inspired this package.\n",
       "  * [Rewrite.jl](https://github.com/HarrisonGrodin/Rewrite.jl) and [Simplify.jl](https://github.com/HarrisonGrodin/Simplify.jl) by [Harrison Grodin](https://github.com/HarrisonGrodin) also inspired this package.\n"
      ],
      "text/plain": [
       "  <h1 align=\"center\"><a\n",
       "  href=\"https://juliasymbolics.github.io/SymbolicUtils.jl/\">SymbolicUtils.jl</a></h1>\n",
       "\n",
       "  <p align=\"center\"> <a\n",
       "  href=\"https://github.com/JuliaSymbolics/SymbolicUtils.jl/actions\"> <img\n",
       "  src=\"https://github.com/JuliaSymbolics/SymbolicUtils.jl/workflows/CI/badge.svg\"\n",
       "  alt=\"CI\"> </a> </a> <a\n",
       "  href=\"https://codecov.io/gh/JuliaSymbolics/SymbolicUtils.jl\"> <img\n",
       "  src=\"https://codecov.io/gh/JuliaSymbolics/SymbolicUtils.jl/branch/master/graph/badge.svg?token=UL72EBCQRW\"/>\n",
       "  </a> </p>\n",
       "\n",
       "  SymbolicUtils.jl provides various utilities for symbolic computing.\n",
       "  SymbolicUtils.jl is what one would use to build a Computer Algebra System\n",
       "  (CAS). If you're looking for a complete CAS, similar to SymPy or\n",
       "  Mathematica, see Symbolics.jl\n",
       "  (https://github.com/JuliaSymbolics/Symbolics.jl). If you want to build a\n",
       "  crazy CAS for your weird Octonian algebras, you've come to the right place.\n",
       "\n",
       "  Symbols in SymbolicUtils\n",
       "  (https://symbolicutils.juliasymbolics.org/#creating_symbolic_expressions)\n",
       "  carry type information. Operations on them propagate this information. A\n",
       "  rule-based rewriting language\n",
       "  (https://symbolicutils.juliasymbolics.org/rewrite/#rule-based_rewriting) can\n",
       "  be used to find subexpressions that satisfy arbitrary conditions and apply\n",
       "  arbitrary transformations on the matches. The library also contains a set of\n",
       "  useful simplification\n",
       "  (https://juliasymbolics.github.io/SymbolicUtils.jl/#simplification) rules\n",
       "  for expressions of numeric symbols and numbers. These can be remixed and\n",
       "  extended for special purposes.\n",
       "\n",
       "  If you are a Julia package develper in need of a rule rewriting system for\n",
       "  your own types, have a look at the interfacing guide\n",
       "  (https://symbolicutils.juliasymbolics.org/interface/).\n",
       "\n",
       "  \u001b[1mGo to the manual\u001b[22m (https://juliasymbolics.github.io/SymbolicUtils.jl/)\n",
       "\n",
       "  SymbolicUtils.jl is on the general registry and can be added the usual way:\n",
       "\n",
       "\u001b[36m  pkg> add SymbolicUtils\u001b[39m\n",
       "\n",
       "  or\n",
       "\n",
       "\u001b[36m  julia> using Pkg; Pkg.add(\"SymbolicUtils\")\u001b[39m\n",
       "\n",
       "\u001b[1m  \"I don't want to read your manual, just show me some cool code\"\u001b[22m\n",
       "\u001b[1m  –––––––––––––––––––––––––––––––––––––––––––––––––––––––––––––––––\u001b[22m\n",
       "\n",
       "\u001b[36m  julia> using SymbolicUtils\u001b[39m\n",
       "\u001b[36m  \u001b[39m\n",
       "\u001b[36m  julia> SymbolicUtils.show_simplified[] = true\u001b[39m\n",
       "\u001b[36m  \u001b[39m\n",
       "\u001b[36m  julia> @syms x::Real y::Real z::Complex f(::Number)::Real\u001b[39m\n",
       "\u001b[36m  (x, y, z, f(::Number)::Real)\u001b[39m\n",
       "\u001b[36m  \u001b[39m\n",
       "\u001b[36m  julia> 2x^2 - y + x^2\u001b[39m\n",
       "\u001b[36m  (3 * (x ^ 2)) + (-1 * y)\u001b[39m\n",
       "\u001b[36m  \u001b[39m\n",
       "\u001b[36m  julia> f(sin(x)^2 + cos(x)^2) + z\u001b[39m\n",
       "\u001b[36m  f(1) + z\u001b[39m\n",
       "\u001b[36m  \u001b[39m\n",
       "\u001b[36m  julia> r = @rule sinh(im * ~x) => sin(~x)\u001b[39m\n",
       "\u001b[36m  sinh(im * ~x) => sin(~x)\u001b[39m\n",
       "\u001b[36m  \u001b[39m\n",
       "\u001b[36m  julia> r(sinh(im * y))\u001b[39m\n",
       "\u001b[36m  sin(y)\u001b[39m\n",
       "\u001b[36m  \u001b[39m\n",
       "\u001b[36m  julia> simplify(cos(y)^2 + sinh(im*y)^2, RuleSet([r]))\u001b[39m\n",
       "\u001b[36m  1\u001b[39m\n",
       "\n",
       "\u001b[1m  Citations\u001b[22m\n",
       "\u001b[1m  ≡≡≡≡≡≡≡≡≡≡≡\u001b[22m\n",
       "\n",
       "    •  The pattern matcher is an adaption of the one by Gerald Jay\n",
       "       Sussman (as seen in 6.945\n",
       "       (https://groups.csail.mit.edu/mac/users/gjs/6.945/) at MIT), his\n",
       "       use of symbolic programming in the book SICM\n",
       "       (https://groups.csail.mit.edu/mac/users/gjs/6946/sicm-html/book.html)\n",
       "       inspired this package.\n",
       "\n",
       "    •  Rewrite.jl (https://github.com/HarrisonGrodin/Rewrite.jl) and\n",
       "       Simplify.jl (https://github.com/HarrisonGrodin/Simplify.jl) by\n",
       "       Harrison Grodin (https://github.com/HarrisonGrodin) also inspired\n",
       "       this package."
      ]
     },
     "execution_count": 90,
     "metadata": {},
     "output_type": "execute_result"
    }
   ],
   "source": [
    "? SymbolicUtils"
   ]
  },
  {
   "cell_type": "code",
   "execution_count": null,
   "metadata": {},
   "outputs": [],
   "source": []
  },
  {
   "cell_type": "code",
   "execution_count": 37,
   "metadata": {},
   "outputs": [
    {
     "ename": "LoadError",
     "evalue": "Differentiation with array expressions is not yet supported",
     "output_type": "error",
     "traceback": [
      "Differentiation with array expressions is not yet supported",
      "",
      "Stacktrace:",
      "  [1] error(s::String)",
      "    @ Base ./error.jl:35",
      "  [2] occursin_info",
      "    @ ~/.julia/packages/Symbolics/CNA2l/src/diff.jl:59 [inlined]",
      "  [3] (::Symbolics.var\"#210#212\"{SymbolicUtils.BasicSymbolic{Matrix{Number}}, SymbolicUtils.BasicSymbolic{Number}})(a::SymbolicUtils.BasicSymbolic{Matrix{Number}})",
      "    @ Symbolics ~/.julia/packages/Symbolics/CNA2l/src/diff.jl:92",
      "  [4] iterate",
      "    @ ./generator.jl:47 [inlined]",
      "  [5] _collect(c::Vector{Any}, itr::Base.Generator{Vector{Any}, Symbolics.var\"#210#212\"{SymbolicUtils.BasicSymbolic{Matrix{Number}}, SymbolicUtils.BasicSymbolic{Number}}}, #unused#::Base.EltypeUnknown, isz::Base.HasShape{1})",
      "    @ Base ./array.jl:802",
      "  [6] collect_similar(cont::Vector{Any}, itr::Base.Generator{Vector{Any}, Symbolics.var\"#210#212\"{SymbolicUtils.BasicSymbolic{Matrix{Number}}, SymbolicUtils.BasicSymbolic{Number}}})",
      "    @ Base ./array.jl:711",
      "  [7] map(f::Function, A::Vector{Any})",
      "    @ Base ./abstractarray.jl:3261",
      "  [8] occursin_info(x::SymbolicUtils.BasicSymbolic{Matrix{Number}}, expr::SymbolicUtils.BasicSymbolic{Number}, fail::Bool)",
      "    @ Symbolics ~/.julia/packages/Symbolics/CNA2l/src/diff.jl:92",
      "  [9] (::Symbolics.var\"#210#212\"{SymbolicUtils.BasicSymbolic{Matrix{Number}}, SymbolicUtils.BasicSymbolic{Number}})(a::SymbolicUtils.BasicSymbolic{Number})",
      "    @ Symbolics ~/.julia/packages/Symbolics/CNA2l/src/diff.jl:92",
      " [10] iterate",
      "    @ ./generator.jl:47 [inlined]",
      " [11] _collect(c::Vector{Any}, itr::Base.Generator{Vector{Any}, Symbolics.var\"#210#212\"{SymbolicUtils.BasicSymbolic{Matrix{Number}}, SymbolicUtils.BasicSymbolic{Number}}}, #unused#::Base.EltypeUnknown, isz::Base.HasShape{1})",
      "    @ Base ./array.jl:802",
      " [12] collect_similar(cont::Vector{Any}, itr::Base.Generator{Vector{Any}, Symbolics.var\"#210#212\"{SymbolicUtils.BasicSymbolic{Matrix{Number}}, SymbolicUtils.BasicSymbolic{Number}}})",
      "    @ Base ./array.jl:711",
      " [13] map(f::Function, A::Vector{Any})",
      "    @ Base ./abstractarray.jl:3261",
      " [14] occursin_info(x::SymbolicUtils.BasicSymbolic{Matrix{Number}}, expr::SymbolicUtils.BasicSymbolic{Number}, fail::Bool)",
      "    @ Symbolics ~/.julia/packages/Symbolics/CNA2l/src/diff.jl:92",
      " [15] occursin_info(x::SymbolicUtils.BasicSymbolic{Matrix{Number}}, expr::SymbolicUtils.BasicSymbolic{Number})",
      "    @ Symbolics ~/.julia/packages/Symbolics/CNA2l/src/diff.jl:57",
      " [16] expand_derivatives(O::SymbolicUtils.BasicSymbolic{Number}, simplify::Bool; occurrences::Nothing)",
      "    @ Symbolics ~/.julia/packages/Symbolics/CNA2l/src/diff.jl:169",
      " [17] expand_derivatives (repeats 2 times)",
      "    @ ~/.julia/packages/Symbolics/CNA2l/src/diff.jl:163 [inlined]",
      " [18] |>(x::SymbolicUtils.BasicSymbolic{Number}, f::typeof(expand_derivatives))",
      "    @ Base ./operators.jl:907",
      " [19] top-level scope",
      "    @ In[37]:6"
     ]
    }
   ],
   "source": [
    "@variables x::Matrix{Number},y::Matrix{Number}\n",
    "Dx = Differential(x)\n",
    "Dy = Differential(y)\n",
    "@variables Gx(x)::Number\n",
    "@variables Gy(y)::Number\n",
    "Dx(Gx*Gy) |> expand_derivatives"
   ]
  },
  {
   "cell_type": "code",
   "execution_count": 17,
   "metadata": {},
   "outputs": [
    {
     "data": {
      "text/plain": [
       "2×2 Matrix{Float64}:\n",
       " 0.0191013  -0.473276\n",
       " 0.34448    -1.42012"
      ]
     },
     "execution_count": 17,
     "metadata": {},
     "output_type": "execute_result"
    }
   ],
   "source": [
    "@variables x::Kernel,y::Kernel\n",
    "Dx = Differential(x)\n",
    "Dy = Differential(y)\n",
    "@variables Gx(x)::Kernel\n",
    "@variables Gy(y)::Kernel\n",
    "Dx(Gx*Gy) |> expand_derivatives"
   ]
  },
  {
   "cell_type": "code",
   "execution_count": 87,
   "metadata": {},
   "outputs": [
    {
     "data": {
      "text/plain": [
       "false"
      ]
     },
     "execution_count": 87,
     "metadata": {},
     "output_type": "execute_result"
    }
   ],
   "source": [
    "Gx == Gy"
   ]
  },
  {
   "cell_type": "code",
   "execution_count": null,
   "metadata": {},
   "outputs": [],
   "source": []
  }
 ],
 "metadata": {
  "kernelspec": {
   "display_name": "Julia 1.9.2",
   "language": "julia",
   "name": "julia-1.9"
  },
  "language_info": {
   "file_extension": ".jl",
   "mimetype": "application/julia",
   "name": "julia",
   "version": "1.9.2"
  },
  "orig_nbformat": 4
 },
 "nbformat": 4,
 "nbformat_minor": 2
}
