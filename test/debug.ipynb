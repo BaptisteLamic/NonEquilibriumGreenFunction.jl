{
 "cells": [
  {
   "cell_type": "code",
   "execution_count": 1,
   "metadata": {},
   "outputs": [
    {
     "name": "stderr",
     "output_type": "stream",
     "text": [
      "\u001b[36m\u001b[1m[ \u001b[22m\u001b[39m\u001b[36m\u001b[1mInfo: \u001b[22m\u001b[39mPrecompiling NonEquilibriumGreenFunction [23f16301-fe5b-45da-b088-f1dd23511803]\n"
     ]
    },
    {
     "name": "stdout",
     "output_type": "stream",
     "text": [
      "1\n",
      "1\n"
     ]
    }
   ],
   "source": [
    "using Revise\n",
    "using NonEquilibriumGreenFunction\n",
    "using Symbolics\n",
    "using LinearAlgebra"
   ]
  },
  {
   "cell_type": "code",
   "execution_count": 2,
   "metadata": {},
   "outputs": [
    {
     "data": {
      "text/latex": [
       "$$ \\begin{equation}\n",
       "0\n",
       "\\end{equation}\n",
       " $$"
      ],
      "text/plain": [
       "0"
      ]
     },
     "execution_count": 2,
     "metadata": {},
     "output_type": "execute_result"
    }
   ],
   "source": [
    "\n",
    "using Symbolics\n",
    "using LinearAlgebra\n",
    "@variables G::Kernel Σ::Kernel\n",
    "0*G |> simplify_kernel"
   ]
  },
  {
   "cell_type": "code",
   "execution_count": 3,
   "metadata": {},
   "outputs": [
    {
     "data": {
      "text/plain": [
       "true"
      ]
     },
     "execution_count": 3,
     "metadata": {},
     "output_type": "execute_result"
    }
   ],
   "source": [
    "using Symbolics\n",
    "using LinearAlgebra\n",
    "@variables G::Kernel x\n",
    " 1 * G |> simplify_kernel == G"
   ]
  },
  {
   "cell_type": "code",
   "execution_count": 4,
   "metadata": {},
   "outputs": [
    {
     "data": {
      "text/plain": [
       "2-element Vector{SymbolicOperator}:\n",
       " SymbolicOperator(G)\n",
       " SymbolicOperator(x)"
      ]
     },
     "execution_count": 4,
     "metadata": {},
     "output_type": "execute_result"
    }
   ],
   "source": [
    "using Test\n",
    "using LinearAlgebra\n",
    "@variables G::Kernel x"
   ]
  },
  {
   "cell_type": "code",
   "execution_count": 5,
   "metadata": {},
   "outputs": [
    {
     "ename": "LoadError",
     "evalue": "UndefVarError: `toexpr` not defined",
     "output_type": "error",
     "traceback": [
      "UndefVarError: `toexpr` not defined",
      "",
      "Stacktrace:",
      " [1] top-level scope",
      "   @ In[5]:1"
     ]
    }
   ],
   "source": [
    "toexpr(expr)"
   ]
  },
  {
   "cell_type": "code",
   "execution_count": null,
   "metadata": {},
   "outputs": [
    {
     "data": {
      "text/plain": [
       "SymbolicOperator(G_R)"
      ]
     },
     "execution_count": 8,
     "metadata": {},
     "output_type": "execute_result"
    }
   ],
   "source": [
    "using Revise\n",
    "using NonEquilibriumGreenFunction\n",
    "using Symbolics\n",
    "using LinearAlgebra\n",
    "@variables G_R::Kernel G_K::Kernel\n",
    "@variables Σ_R::Kernel Σ_K::Kernel\n",
    "τz = [1 2; 2 3] // 2\n",
    "G = [0 G_R'; G_R G_K]\n",
    "Σl = [Σ_K Σ_R; Σ_R' 0]\n",
    "expr = simplify_kernel(G_R)\n",
    "\n"
   ]
  },
  {
   "cell_type": "code",
   "execution_count": null,
   "metadata": {},
   "outputs": [],
   "source": []
  },
  {
   "cell_type": "code",
   "execution_count": 2,
   "metadata": {},
   "outputs": [
    {
     "ename": "LoadError",
     "evalue": "LoadError: UndefVarError: `@test` not defined\nin expression starting at In[2]:5",
     "output_type": "error",
     "traceback": [
      "LoadError: UndefVarError: `@test` not defined\nin expression starting at In[2]:5",
      ""
     ]
    }
   ],
   "source": [
    "bs, N, Dt = 2, 128, 2.0\n",
    "ax = LinRange(-Dt / 2, Dt, N)\n",
    "A = randn(ComplexF32, bs * N, bs * N)\n",
    "GA = RetardedKernel(ax, A, bs, NONCompression())\n",
    "@test isequal(simplify_kernel(G + G + G - G), 2G)"
   ]
  },
  {
   "cell_type": "code",
   "execution_count": 28,
   "metadata": {},
   "outputs": [
    {
     "data": {
      "text/plain": [
       "RuntimeGeneratedFunction(#=in Symbolics=#, #=using Symbolics=#, :((G_R,)->begin\n",
       "          #= /Users/baptiste/.julia/packages/SymbolicUtils/NJ0fs/src/code.jl:373 =#\n",
       "          #= /Users/baptiste/.julia/packages/SymbolicUtils/NJ0fs/src/code.jl:374 =#\n",
       "          #= /Users/baptiste/.julia/packages/SymbolicUtils/NJ0fs/src/code.jl:375 =#\n",
       "          SymbolicOperator(G_R)\n",
       "      end))"
      ]
     },
     "execution_count": 28,
     "metadata": {},
     "output_type": "execute_result"
    }
   ],
   "source": [
    "f = build_function(expr, G_R, expression=Val{false})"
   ]
  },
  {
   "cell_type": "code",
   "execution_count": 14,
   "metadata": {},
   "outputs": [
    {
     "ename": "LoadError",
     "evalue": "MethodError: no method matching -(::Metatheory.EGraphs.EClass)\n\n\u001b[0mClosest candidates are:\n\u001b[0m  -(::Any, \u001b[91m::ChainRulesCore.AbstractThunk\u001b[39m)\n\u001b[0m\u001b[90m   @\u001b[39m \u001b[32mChainRulesCore\u001b[39m \u001b[90m~/.julia/packages/ChainRulesCore/7MWx2/src/tangent_types/\u001b[39m\u001b[90m\u001b[4mthunks.jl:35\u001b[24m\u001b[39m\n\u001b[0m  -(::Any, \u001b[91m::MultivariatePolynomials.AbstractPolynomialLike\u001b[39m)\n\u001b[0m\u001b[90m   @\u001b[39m \u001b[32mMultivariatePolynomials\u001b[39m \u001b[90m~/.julia/packages/MultivariatePolynomials/sWAOE/src/\u001b[39m\u001b[90m\u001b[4moperators.jl:46\u001b[24m\u001b[39m\n\u001b[0m  -(::Any, \u001b[91m::MultivariatePolynomials.RationalPoly\u001b[39m)\n\u001b[0m\u001b[90m   @\u001b[39m \u001b[32mMultivariatePolynomials\u001b[39m \u001b[90m~/.julia/packages/MultivariatePolynomials/sWAOE/src/\u001b[39m\u001b[90m\u001b[4mrational.jl:60\u001b[24m\u001b[39m\n\u001b[0m  ...\n",
     "output_type": "error",
     "traceback": [
      "MethodError: no method matching -(::Metatheory.EGraphs.EClass)\n\n\u001b[0mClosest candidates are:\n\u001b[0m  -(::Any, \u001b[91m::ChainRulesCore.AbstractThunk\u001b[39m)\n\u001b[0m\u001b[90m   @\u001b[39m \u001b[32mChainRulesCore\u001b[39m \u001b[90m~/.julia/packages/ChainRulesCore/7MWx2/src/tangent_types/\u001b[39m\u001b[90m\u001b[4mthunks.jl:35\u001b[24m\u001b[39m\n\u001b[0m  -(::Any, \u001b[91m::MultivariatePolynomials.AbstractPolynomialLike\u001b[39m)\n\u001b[0m\u001b[90m   @\u001b[39m \u001b[32mMultivariatePolynomials\u001b[39m \u001b[90m~/.julia/packages/MultivariatePolynomials/sWAOE/src/\u001b[39m\u001b[90m\u001b[4moperators.jl:46\u001b[24m\u001b[39m\n\u001b[0m  -(::Any, \u001b[91m::MultivariatePolynomials.RationalPoly\u001b[39m)\n\u001b[0m\u001b[90m   @\u001b[39m \u001b[32mMultivariatePolynomials\u001b[39m \u001b[90m~/.julia/packages/MultivariatePolynomials/sWAOE/src/\u001b[39m\u001b[90m\u001b[4mrational.jl:60\u001b[24m\u001b[39m\n\u001b[0m  ...\n",
      "",
      "Stacktrace:",
      "  [1] (::NonEquilibriumGreenFunction.var\"#68#87\")(_lhs_expr::Int64, _egraph::Metatheory.EGraphs.EGraph, a::Metatheory.EGraphs.EClass, b::Metatheory.EGraphs.EClass)",
      "    @ NonEquilibriumGreenFunction ~/.julia/packages/Metatheory/gACcT/src/Syntax.jl:343",
      "  [2] apply_rule!(bindings::Base.ImmutableDict{Int64, Tuple{Int64, Int64}}, g::Metatheory.EGraphs.EGraph, rule::Metatheory.Rules.DynamicRule, id::Int64, direction::Int64)",
      "    @ Metatheory.EGraphs ~/.julia/packages/Metatheory/gACcT/src/EGraphs/saturation.jl:205",
      "  [3] #39",
      "    @ ~/.julia/packages/Metatheory/gACcT/src/EGraphs/saturation.jl:235 [inlined]",
      "  [4] lock(f::Metatheory.EGraphs.var\"#39#42\"{Metatheory.Rules.DynamicRule, Int64, Int64, Base.ImmutableDict{Int64, Tuple{Int64, Int64}}, Metatheory.EGraphs.EGraph}, l::ReentrantLock)",
      "    @ Base ./lock.jl:229",
      "  [5] (::Metatheory.EGraphs.var\"#38#41\"{Metatheory.EGraphs.EGraph, Vector{Metatheory.Rules.DynamicRule}, Metatheory.EGraphs.SaturationReport, Metatheory.EGraphs.SaturationParams})()",
      "    @ Metatheory.EGraphs ~/.julia/packages/Metatheory/gACcT/src/EGraphs/saturation.jl:234",
      "  [6] lock(f::Metatheory.EGraphs.var\"#38#41\"{Metatheory.EGraphs.EGraph, Vector{Metatheory.Rules.DynamicRule}, Metatheory.EGraphs.SaturationReport, Metatheory.EGraphs.SaturationParams}, l::ReentrantLock)",
      "    @ Base ./lock.jl:229",
      "  [7] eqsat_apply!",
      "    @ ~/.julia/packages/Metatheory/gACcT/src/EGraphs/saturation.jl:219 [inlined]",
      "  [8] macro expansion",
      "    @ ~/.julia/packages/TimerOutputs/RsWnF/src/TimerOutput.jl:237 [inlined]",
      "  [9] eqsat_step!(g::Metatheory.EGraphs.EGraph, theory::Vector{Metatheory.Rules.DynamicRule}, curr_iter::Int64, scheduler::Metatheory.EGraphs.Schedulers.BackoffScheduler, params::Metatheory.EGraphs.SaturationParams, report::Metatheory.EGraphs.SaturationReport)",
      "    @ Metatheory.EGraphs ~/.julia/packages/Metatheory/gACcT/src/EGraphs/saturation.jl:273",
      " [10] saturate!(g::Metatheory.EGraphs.EGraph, theory::Vector{Metatheory.Rules.DynamicRule}, params::Metatheory.EGraphs.SaturationParams)",
      "    @ Metatheory.EGraphs ~/.julia/packages/Metatheory/gACcT/src/EGraphs/saturation.jl:303",
      " [11] saturate!",
      "    @ ~/.julia/packages/Metatheory/gACcT/src/EGraphs/saturation.jl:288 [inlined]",
      " [12] _simplify_kernel(expr::SymbolicUtils.BasicSymbolic{NonEquilibriumGreenFunction.AbstractOperator})",
      "    @ NonEquilibriumGreenFunction ~/.julia/dev/nonequilibriumgreenfunction.jl/src/Kernels/symbolics_extension.jl:158",
      " [13] |>(x::SymbolicUtils.BasicSymbolic{NonEquilibriumGreenFunction.AbstractOperator}, f::typeof(NonEquilibriumGreenFunction._simplify_kernel))",
      "    @ Base ./operators.jl:907",
      " [14] simplify_kernel(expr::SymbolicOperator)",
      "    @ NonEquilibriumGreenFunction ~/.julia/dev/nonequilibriumgreenfunction.jl/src/Kernels/symbolics_extension.jl:132",
      " [15] top-level scope",
      "    @ In[14]:10"
     ]
    }
   ],
   "source": [
    "using Revise\n",
    "using NonEquilibriumGreenFunction\n",
    "using Symbolics\n",
    "using LinearAlgebra\n",
    "@variables G_R::Kernel G_K::Kernel\n",
    "@variables Σ_R::Kernel Σ_K::Kernel\n",
    "τz = [1 2; 2 3] // 2\n",
    "G = [0 G_R'; G_R G_K]\n",
    "Σl = [Σ_K Σ_R; Σ_R' 0]\n",
    "expr = simplify_kernel(-tr(τz * (G * Σl - Σl * G)))\n",
    "@test expr isa SymbolicOperator\n",
    "bs, N, Dt = 2, 128, 2.0\n",
    "ax = LinRange(-Dt / 2, Dt, N)\n",
    "A = randn(ComplexF32, bs * N, bs * N)\n",
    "GR = RetardedKernel(ax, A, bs, NONCompression())\n",
    "GK = AcausalKernel(ax, A, bs, NONCompression())\n",
    "#f = build_function(expr, G_R, G_K, Σ_R, Σ_K, expression=Val{false})"
   ]
  },
  {
   "cell_type": "code",
   "execution_count": null,
   "metadata": {},
   "outputs": [],
   "source": []
  },
  {
   "cell_type": "code",
   "execution_count": null,
   "metadata": {},
   "outputs": [],
   "source": []
  },
  {
   "cell_type": "code",
   "execution_count": null,
   "metadata": {},
   "outputs": [],
   "source": []
  },
  {
   "cell_type": "code",
   "execution_count": null,
   "metadata": {},
   "outputs": [],
   "source": []
  },
  {
   "cell_type": "code",
   "execution_count": null,
   "metadata": {},
   "outputs": [],
   "source": []
  },
  {
   "cell_type": "code",
   "execution_count": 13,
   "metadata": {},
   "outputs": [
    {
     "data": {
      "text/plain": [
       "RuntimeGeneratedFunction(#=in Symbolics=#, #=using Symbolics=#, :((G_R,)->begin\n",
       "          #= /Users/baptiste/.julia/packages/SymbolicUtils/NJ0fs/src/code.jl:373 =#\n",
       "          #= /Users/baptiste/.julia/packages/SymbolicUtils/NJ0fs/src/code.jl:374 =#\n",
       "          #= /Users/baptiste/.julia/packages/SymbolicUtils/NJ0fs/src/code.jl:375 =#\n",
       "          G_R\n",
       "      end))"
      ]
     },
     "execution_count": 13,
     "metadata": {},
     "output_type": "execute_result"
    }
   ],
   "source": [
    "g = build_function(Symbolics.unwrap(expr), G_R, expression=Val{false})"
   ]
  },
  {
   "cell_type": "code",
   "execution_count": 28,
   "metadata": {},
   "outputs": [
    {
     "data": {
      "text/plain": [
       "2"
      ]
     },
     "execution_count": 28,
     "metadata": {},
     "output_type": "execute_result"
    }
   ],
   "source": [
    "g(2)"
   ]
  },
  {
   "cell_type": "code",
   "execution_count": 5,
   "metadata": {},
   "outputs": [
    {
     "data": {
      "text/plain": [
       "SymbolicOperator(-G_R)"
      ]
     },
     "execution_count": 5,
     "metadata": {},
     "output_type": "execute_result"
    }
   ],
   "source": [
    "simplify_kernel(0 - G_R)"
   ]
  },
  {
   "cell_type": "code",
   "execution_count": 21,
   "metadata": {},
   "outputs": [
    {
     "data": {
      "text/plain": [
       "SymbolicOperator(G_R)"
      ]
     },
     "execution_count": 21,
     "metadata": {},
     "output_type": "execute_result"
    }
   ],
   "source": [
    "G_R"
   ]
  },
  {
   "cell_type": "code",
   "execution_count": null,
   "metadata": {},
   "outputs": [],
   "source": []
  },
  {
   "cell_type": "code",
   "execution_count": null,
   "metadata": {},
   "outputs": [],
   "source": []
  }
 ],
 "metadata": {
  "kernelspec": {
   "display_name": "Julia 1.9.2",
   "language": "julia",
   "name": "julia-1.9"
  },
  "language_info": {
   "file_extension": ".jl",
   "mimetype": "application/julia",
   "name": "julia",
   "version": "1.9.2"
  },
  "orig_nbformat": 4
 },
 "nbformat": 4,
 "nbformat_minor": 2
}
