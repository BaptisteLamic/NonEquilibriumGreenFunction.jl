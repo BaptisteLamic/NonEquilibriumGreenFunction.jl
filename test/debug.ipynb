{
 "cells": [
  {
   "cell_type": "code",
   "execution_count": 10,
   "metadata": {},
   "outputs": [
    {
     "ename": "LoadError",
     "evalue": "MethodError: no method matching one(::Type{Kernel})\n\n\u001b[0mClosest candidates are:\n\u001b[0m  one(\u001b[91m::Union{Type{T}, T}\u001b[39m) where T<:AbstractString\n\u001b[0m\u001b[90m   @\u001b[39m \u001b[90mBase\u001b[39m \u001b[90mstrings/\u001b[39m\u001b[90m\u001b[4mbasic.jl:262\u001b[24m\u001b[39m\n\u001b[0m  one(\u001b[91m::Union{Type{P}, P}\u001b[39m) where P<:Dates.Period\n\u001b[0m\u001b[90m   @\u001b[39m \u001b[33mDates\u001b[39m \u001b[90m~/.julia/juliaup/julia-1.9.2+0.aarch64.apple.darwin14/share/julia/stdlib/v1.9/Dates/src/\u001b[39m\u001b[90m\u001b[4mperiods.jl:52\u001b[24m\u001b[39m\n\u001b[0m  one(\u001b[91m::AbstractAlgebra.MatrixElem{T}\u001b[39m) where T<:Union{AbstractAlgebra.NCRingElem, AbstractAlgebra.RingElement}\n\u001b[0m\u001b[90m   @\u001b[39m \u001b[35mAbstractAlgebra\u001b[39m \u001b[90m~/.julia/packages/AbstractAlgebra/YkCOC/src/\u001b[39m\u001b[90m\u001b[4mMatrix.jl:198\u001b[24m\u001b[39m\n\u001b[0m  ...\n",
     "output_type": "error",
     "traceback": [
      "MethodError: no method matching one(::Type{Kernel})\n\n\u001b[0mClosest candidates are:\n\u001b[0m  one(\u001b[91m::Union{Type{T}, T}\u001b[39m) where T<:AbstractString\n\u001b[0m\u001b[90m   @\u001b[39m \u001b[90mBase\u001b[39m \u001b[90mstrings/\u001b[39m\u001b[90m\u001b[4mbasic.jl:262\u001b[24m\u001b[39m\n\u001b[0m  one(\u001b[91m::Union{Type{P}, P}\u001b[39m) where P<:Dates.Period\n\u001b[0m\u001b[90m   @\u001b[39m \u001b[33mDates\u001b[39m \u001b[90m~/.julia/juliaup/julia-1.9.2+0.aarch64.apple.darwin14/share/julia/stdlib/v1.9/Dates/src/\u001b[39m\u001b[90m\u001b[4mperiods.jl:52\u001b[24m\u001b[39m\n\u001b[0m  one(\u001b[91m::AbstractAlgebra.MatrixElem{T}\u001b[39m) where T<:Union{AbstractAlgebra.NCRingElem, AbstractAlgebra.RingElement}\n\u001b[0m\u001b[90m   @\u001b[39m \u001b[35mAbstractAlgebra\u001b[39m \u001b[90m~/.julia/packages/AbstractAlgebra/YkCOC/src/\u001b[39m\u001b[90m\u001b[4mMatrix.jl:198\u001b[24m\u001b[39m\n\u001b[0m  ...\n",
      "",
      "Stacktrace:",
      " [1] one(s::SymbolicUtils.BasicSymbolic{Kernel})",
      "   @ SymbolicUtils ~/.julia/packages/SymbolicUtils/H684H/src/types.jl:219",
      " [2] derivative(#unused#::typeof(-), args::Tuple{SymbolicUtils.BasicSymbolic{Kernel}, SymbolicUtils.BasicSymbolic{Kernel}}, #unused#::Val{1})",
      "   @ Symbolics ~/.julia/packages/Symbolics/CNA2l/src/diff.jl:348",
      " [3] derivative_idx(O::SymbolicUtils.BasicSymbolic{Kernel}, idx::Int64)",
      "   @ Symbolics ~/.julia/packages/Symbolics/CNA2l/src/diff.jl:329",
      " [4] expand_derivatives(O::SymbolicUtils.BasicSymbolic{Kernel}, simplify::Bool; occurrences::Nothing)",
      "   @ Symbolics ~/.julia/packages/Symbolics/CNA2l/src/diff.jl:245",
      " [5] expand_derivatives",
      "   @ ~/.julia/packages/Symbolics/CNA2l/src/diff.jl:163 [inlined]",
      " [6] expand_derivatives(O::SymbolicUtils.BasicSymbolic{Kernel})",
      "   @ Symbolics ~/.julia/packages/Symbolics/CNA2l/src/diff.jl:163",
      " [7] top-level scope",
      "   @ In[10]:12"
     ]
    }
   ],
   "source": [
    "using Revise\n",
    "using Test\n",
    "using NonEquilibriumGreenFunction\n",
    "using Symbolics\n",
    "@variables x,y\n",
    "Dx = Differential(x)\n",
    "Dy = Differential(y)\n",
    "@variables Gx(x)::Kernel\n",
    "@variables Gy(y)::Kernel\n",
    "@test Dy(Gx) |> expand_derivatives == 0\n",
    "r = Dy(Gy-Gy)\n",
    " expand_derivatives( r, ) \n",
    "\n"
   ]
  },
  {
   "cell_type": "code",
   "execution_count": 3,
   "metadata": {},
   "outputs": [
    {
     "name": "stdout",
     "output_type": "stream",
     "text": [
      "\u001b[91m\u001b[1mTest Failed\u001b[22m\u001b[39m at \u001b[39m\u001b[1mIn[3]:2\u001b[22m\n",
      "  Expression: simplify_kernel(0 * x) == 0\n",
      "   Evaluated: nothing == 0\n",
      "\n"
     ]
    },
    {
     "ename": "LoadError",
     "evalue": "\u001b[91mThere was an error during testing\u001b[39m",
     "output_type": "error",
     "traceback": [
      "\u001b[91mThere was an error during testing\u001b[39m",
      "",
      "Stacktrace:",
      " [1] record(ts::Test.FallbackTestSet, t::Union{Test.Error, Test.Fail})",
      "   @ Test ~/.julia/juliaup/julia-1.9.2+0.aarch64.apple.darwin14/share/julia/stdlib/v1.9/Test/src/Test.jl:960",
      " [2] do_test(result::Test.ExecutionResult, orig_expr::Any)",
      "   @ Test ~/.julia/juliaup/julia-1.9.2+0.aarch64.apple.darwin14/share/julia/stdlib/v1.9/Test/src/Test.jl:670",
      " [3] top-level scope",
      "   @ ~/.julia/juliaup/julia-1.9.2+0.aarch64.apple.darwin14/share/julia/stdlib/v1.9/Test/src/Test.jl:478"
     ]
    }
   ],
   "source": [
    "@variables x::Kernel y::Kernel z::Kernel\n",
    "    @test simplify_kernel(0 * x) == 0\n",
    "    @test simplify_kernel(x * 0) == 0"
   ]
  },
  {
   "cell_type": "code",
   "execution_count": 8,
   "metadata": {},
   "outputs": [
    {
     "data": {
      "text/plain": [
       "true"
      ]
     },
     "execution_count": 8,
     "metadata": {},
     "output_type": "execute_result"
    }
   ],
   "source": [
    "isnothing(0*x)"
   ]
  },
  {
   "cell_type": "code",
   "execution_count": 9,
   "metadata": {},
   "outputs": [],
   "source": [
    "x*0"
   ]
  },
  {
   "cell_type": "code",
   "execution_count": 14,
   "metadata": {},
   "outputs": [
    {
     "data": {
      "text/plain": [
       "1-element Vector{Symbolics.Arr{Num, 2}}:\n",
       " (f(x))[1:2,1:2]"
      ]
     },
     "execution_count": 14,
     "metadata": {},
     "output_type": "execute_result"
    }
   ],
   "source": [
    "@variables f(x)[1:2,1:2]"
   ]
  },
  {
   "cell_type": "code",
   "execution_count": 18,
   "metadata": {},
   "outputs": [
    {
     "ename": "LoadError",
     "evalue": "Differentiation with array expressions is not yet supported",
     "output_type": "error",
     "traceback": [
      "Differentiation with array expressions is not yet supported",
      "",
      "Stacktrace:",
      " [1] error(s::String)",
      "   @ Base ./error.jl:35",
      " [2] occursin_info(x::SymbolicUtils.BasicSymbolic{Real}, expr::Symbolics.Arr{Num, 2}, fail::Bool)",
      "   @ Symbolics ~/.julia/packages/Symbolics/CNA2l/src/diff.jl:59",
      " [3] occursin_info(x::SymbolicUtils.BasicSymbolic{Real}, expr::Symbolics.Arr{Num, 2})",
      "   @ Symbolics ~/.julia/packages/Symbolics/CNA2l/src/diff.jl:57",
      " [4] expand_derivatives(O::SymbolicUtils.BasicSymbolic{Symbolics.Arr{Num, 2}}, simplify::Bool; occurrences::Nothing)",
      "   @ Symbolics ~/.julia/packages/Symbolics/CNA2l/src/diff.jl:169",
      " [5] expand_derivatives",
      "   @ ~/.julia/packages/Symbolics/CNA2l/src/diff.jl:163 [inlined]",
      " [6] expand_derivatives(O::SymbolicUtils.BasicSymbolic{Symbolics.Arr{Num, 2}})",
      "   @ Symbolics ~/.julia/packages/Symbolics/CNA2l/src/diff.jl:163",
      " [7] top-level scope",
      "   @ In[18]:1"
     ]
    }
   ],
   "source": [
    "expand_derivatives(Dx(f*f)) "
   ]
  },
  {
   "cell_type": "code",
   "execution_count": null,
   "metadata": {},
   "outputs": [],
   "source": []
  }
 ],
 "metadata": {
  "kernelspec": {
   "display_name": "Julia 1.9.2",
   "language": "julia",
   "name": "julia-1.9"
  },
  "language_info": {
   "file_extension": ".jl",
   "mimetype": "application/julia",
   "name": "julia",
   "version": "1.9.2"
  },
  "orig_nbformat": 4
 },
 "nbformat": 4,
 "nbformat_minor": 2
}
