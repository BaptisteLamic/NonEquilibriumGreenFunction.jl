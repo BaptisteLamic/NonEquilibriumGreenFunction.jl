{
 "cells": [
  {
   "cell_type": "code",
   "execution_count": 4,
   "metadata": {},
   "outputs": [
    {
     "name": "stdout",
     "output_type": "stream",
     "text": [
      "Revise.errors() = nothing\n"
     ]
    }
   ],
   "source": [
    "using Revise\n",
    "@show Revise.errors()\n",
    "using Symbolics\n",
    "using NonEquilibriumGreenFunction\n",
    "using LinearAlgebra\n",
    "using Test"
   ]
  },
  {
   "cell_type": "code",
   "execution_count": 5,
   "metadata": {},
   "outputs": [
    {
     "data": {
      "text/latex": [
       "$$ \\begin{equation}\n",
       "\\mathrm{tr}\\left( \\frac{\\mathrm{d}}{{\\eta}b\\left( t \\right)} \\mathrm{inv}\\left( \\mathrm{inv}\\left( g\\left( {\\eta}f\\left( t \\right), {\\eta}b\\left( t \\right) \\right) \\right) - \\Sigma\\left( {\\eta}f\\left( t \\right), {\\eta}b\\left( t \\right) \\right) \\right) \\frac{\\mathrm{d}}{{\\eta}f\\left( t \\right)} \\Sigma\\left( {\\eta}f\\left( t \\right), {\\eta}b\\left( t \\right) \\right) \\right)\n",
       "\\end{equation}\n",
       " $$"
      ],
      "text/plain": [
       "LinearAlgebra.tr(Differential(ηb(t))(inv(inv(g(ηf(t), ηb(t))) - Σ(ηf(t), ηb(t)))*Differential(ηf(t))(Σ(ηf(t), ηb(t)))))"
      ]
     },
     "metadata": {},
     "output_type": "display_data"
    }
   ],
   "source": [
    "@variables t\n",
    "@variables ηf(t) ηb(t)\n",
    "Df = Differential(ηf)\n",
    "Db = Differential(ηb)\n",
    "@variables G(ηf, ηb)::Kernel g(ηf, ηb)::Kernel Σ(ηf, ηb)::Kernel\n",
    "expr = tr(Db( inv( inv(g) - Σ) * Df(Σ) ))\n",
    "display(expr)"
   ]
  },
  {
   "cell_type": "code",
   "execution_count": 6,
   "metadata": {},
   "outputs": [
    {
     "data": {
      "text/latex": [
       "$$ \\begin{equation}\n",
       "\\mathrm{tr}\\left( \\frac{\\mathrm{d} \\mathrm{inv}\\left( \\mathrm{inv}\\left( g\\left( {\\eta}f\\left( t \\right), {\\eta}b\\left( t \\right) \\right) \\right) - \\Sigma\\left( {\\eta}f\\left( t \\right), {\\eta}b\\left( t \\right) \\right) \\right)}{{\\eta}b\\left( t \\right)} \\frac{\\mathrm{d}}{{\\eta}f\\left( t \\right)} \\Sigma\\left( {\\eta}f\\left( t \\right), {\\eta}b\\left( t \\right) \\right) + \\mathrm{inv}\\left( \\mathrm{inv}\\left( g\\left( {\\eta}f\\left( t \\right), {\\eta}b\\left( t \\right) \\right) \\right) - \\Sigma\\left( {\\eta}f\\left( t \\right), {\\eta}b\\left( t \\right) \\right) \\right) \\frac{\\mathrm{d}}{{\\eta}b\\left( t \\right)} \\frac{\\mathrm{d}}{{\\eta}f\\left( t \\right)} \\Sigma\\left( {\\eta}f\\left( t \\right), {\\eta}b\\left( t \\right) \\right) \\right)\n",
       "\\end{equation}\n",
       " $$"
      ],
      "text/plain": [
       "LinearAlgebra.tr(Differential(ηb(t))(inv(inv(g(ηf(t), ηb(t))) - Σ(ηf(t), ηb(t))))*Differential(ηf(t))(Σ(ηf(t), ηb(t))) + inv(inv(g(ηf(t), ηb(t))) - Σ(ηf(t), ηb(t)))*Differential(ηb(t))(Differential(ηf(t))(Σ(ηf(t), ηb(t)))))"
      ]
     },
     "metadata": {},
     "output_type": "display_data"
    }
   ],
   "source": [
    "expr = expr |> expand_derivatives |> simplify_kernel \n",
    "display(expr)"
   ]
  },
  {
   "cell_type": "code",
   "execution_count": 7,
   "metadata": {},
   "outputs": [
    {
     "ename": "LoadError",
     "evalue": "UndefVarError: `D` not defined",
     "output_type": "error",
     "traceback": [
      "UndefVarError: `D` not defined",
      "",
      "Stacktrace:",
      " [1] top-level scope",
      "   @ In[7]:1"
     ]
    }
   ],
   "source": [
    "D(G_R) |> expand_der"
   ]
  },
  {
   "cell_type": "code",
   "execution_count": null,
   "metadata": {},
   "outputs": [],
   "source": []
  }
 ],
 "metadata": {
  "kernelspec": {
   "display_name": "Julia 1.9.2",
   "language": "julia",
   "name": "julia-1.9"
  },
  "language_info": {
   "file_extension": ".jl",
   "mimetype": "application/julia",
   "name": "julia",
   "version": "1.9.2"
  },
  "orig_nbformat": 4
 },
 "nbformat": 4,
 "nbformat_minor": 2
}
