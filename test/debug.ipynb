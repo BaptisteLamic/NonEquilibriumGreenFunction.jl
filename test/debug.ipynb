{
 "cells": [
  {
   "cell_type": "code",
   "execution_count": 4,
   "metadata": {},
   "outputs": [
    {
     "name": "stdout",
     "output_type": "stream",
     "text": [
      "Revise.errors() = nothing\n"
     ]
    }
   ],
   "source": [
    "using Revise\n",
    "@show Revise.errors()\n",
    "using Symbolics\n",
    "using NonEquilibriumGreenFunction\n",
    "using LinearAlgebra\n",
    "using Test"
   ]
  },
  {
   "cell_type": "code",
   "execution_count": 23,
   "metadata": {},
   "outputs": [
    {
     "data": {
      "text/latex": [
       "$$ \\begin{equation}\n",
       "\\frac{\\mathrm{d} \\mathrm{tr}\\left( \\log\\left( \\mathrm{inv}\\left( \\mathrm{Gx}\\left( x \\right) \\right) \\right) \\right)}{\\mathrm{d}x}\n",
       "\\end{equation}\n",
       " $$"
      ],
      "text/plain": [
       "Differential(x)(LinearAlgebra.tr(log(inv(Gx(x)))))"
      ]
     },
     "metadata": {},
     "output_type": "display_data"
    },
    {
     "data": {
      "text/plain": [
       "\"\""
      ]
     },
     "execution_count": 23,
     "metadata": {},
     "output_type": "execute_result"
    }
   ],
   "source": [
    "using Symbolics\n",
    "using LinearAlgebra\n",
    "@variables x,y\n",
    "Dx = Differential(x)\n",
    "Dy = Differential(y)\n",
    "@variables Gx(x)::Kernel\n",
    "@variables Gy(y)::Kernel\n",
    "@test Dy(Gx) |> expand_derivatives == 0\n",
    "@test isequal(Dy(Gx*Gy) |> expand_derivatives, Gx*Dy(Gy))\n",
    "@test isequal(Dy(Gy*Gx) |> expand_derivatives, Dy(Gy)*Gx)\n",
    "@test !isequal(Dy(Gy*Gx) |> expand_derivatives, Gx*Dy(Gy))\n",
    "@test isequal(Dy(Gy + Gx) |> expand_derivatives, Dy(Gy))\n",
    "@test isequal(Dy(-Gy)|> expand_derivatives, - Dy(Gy)|> expand_derivatives)\n",
    "# We do not want the default derivation rules to spill our calculation\n",
    " Dx(tr(log(inv(Gx)))) |> string"
   ]
  },
  {
   "cell_type": "code",
   "execution_count": 15,
   "metadata": {},
   "outputs": [
    {
     "data": {
      "text/latex": [
       "$$ \\begin{equation}\n",
       "\\frac{\\mathrm{d} \\mathrm{tr}\\left( \\log\\left( \\mathrm{inv}\\left( \\mathrm{Gx}\\left( x \\right) \\right) \\right) \\right)}{\\mathrm{d}x}\n",
       "\\end{equation}\n",
       " $$"
      ],
      "text/plain": [
       "Differential(x)(LinearAlgebra.tr(log(inv(Gx(x)))))"
      ]
     },
     "metadata": {},
     "output_type": "display_data"
    },
    {
     "data": {
      "text/plain": []
     },
     "execution_count": 15,
     "metadata": {},
     "output_type": "execute_result"
    }
   ],
   "source": [
    "(Dx(tr(log(inv(Gx)))) |> expand_derivatives)"
   ]
  },
  {
   "cell_type": "code",
   "execution_count": 24,
   "metadata": {},
   "outputs": [
    {
     "data": {
      "text/latex": [
       "$$ \\begin{equation}\n",
       "\\frac{\\mathrm{d} \\mathrm{tr}\\left( \\log\\left( \\mathrm{inv}\\left( \\mathrm{Gx}\\left( x \\right) \\right) \\right) \\right)}{\\mathrm{d}x}\n",
       "\\end{equation}\n",
       " $$"
      ],
      "text/plain": [
       "Differential(x)(LinearAlgebra.tr(log(inv(Gx(x)))))"
      ]
     },
     "metadata": {},
     "output_type": "display_data"
    },
    {
     "data": {
      "text/plain": []
     },
     "execution_count": 24,
     "metadata": {},
     "output_type": "execute_result"
    }
   ],
   "source": [
    "expr = Dx(tr(log(inv(Gx))))"
   ]
  },
  {
   "cell_type": "code",
   "execution_count": 27,
   "metadata": {},
   "outputs": [
    {
     "data": {
      "text/plain": [
       "true"
      ]
     },
     "execution_count": 27,
     "metadata": {},
     "output_type": "execute_result"
    }
   ],
   "source": [
    "isequal(expr |> expand_derivatives, expr |> simplify_kernel)"
   ]
  },
  {
   "cell_type": "code",
   "execution_count": 16,
   "metadata": {},
   "outputs": [
    {
     "ename": "LoadError",
     "evalue": "MethodError: no method matching /(::Int64, ::SymbolicOperator)\n\n\u001b[0mClosest candidates are:\n\u001b[0m  /(::Union{Int128, Int16, Int32, Int64, Int8, UInt128, UInt16, UInt32, UInt64, UInt8}, \u001b[91m::Union{Int128, Int16, Int32, Int64, Int8, UInt128, UInt16, UInt32, UInt64, UInt8}\u001b[39m)\n\u001b[0m\u001b[90m   @\u001b[39m \u001b[90mBase\u001b[39m \u001b[90m\u001b[4mint.jl:97\u001b[24m\u001b[39m\n\u001b[0m  /(::Union{Integer, Complex{<:Union{Integer, Rational}}}, \u001b[91m::Rational\u001b[39m)\n\u001b[0m\u001b[90m   @\u001b[39m \u001b[90mBase\u001b[39m \u001b[90m\u001b[4mrational.jl:361\u001b[24m\u001b[39m\n\u001b[0m  /(::Union{Int16, Int32, Int64, Int8, UInt16, UInt32, UInt64, UInt8}, \u001b[91m::BigInt\u001b[39m)\n\u001b[0m\u001b[90m   @\u001b[39m \u001b[90mBase\u001b[39m \u001b[90m\u001b[4mgmp.jl:555\u001b[24m\u001b[39m\n\u001b[0m  ...\n",
     "output_type": "error",
     "traceback": [
      "MethodError: no method matching /(::Int64, ::SymbolicOperator)\n\n\u001b[0mClosest candidates are:\n\u001b[0m  /(::Union{Int128, Int16, Int32, Int64, Int8, UInt128, UInt16, UInt32, UInt64, UInt8}, \u001b[91m::Union{Int128, Int16, Int32, Int64, Int8, UInt128, UInt16, UInt32, UInt64, UInt8}\u001b[39m)\n\u001b[0m\u001b[90m   @\u001b[39m \u001b[90mBase\u001b[39m \u001b[90m\u001b[4mint.jl:97\u001b[24m\u001b[39m\n\u001b[0m  /(::Union{Integer, Complex{<:Union{Integer, Rational}}}, \u001b[91m::Rational\u001b[39m)\n\u001b[0m\u001b[90m   @\u001b[39m \u001b[90mBase\u001b[39m \u001b[90m\u001b[4mrational.jl:361\u001b[24m\u001b[39m\n\u001b[0m  /(::Union{Int16, Int32, Int64, Int8, UInt16, UInt32, UInt64, UInt8}, \u001b[91m::BigInt\u001b[39m)\n\u001b[0m\u001b[90m   @\u001b[39m \u001b[90mBase\u001b[39m \u001b[90m\u001b[4mgmp.jl:555\u001b[24m\u001b[39m\n\u001b[0m  ...\n",
      "",
      "Stacktrace:",
      " [1] top-level scope",
      "   @ In[16]:1"
     ]
    }
   ],
   "source": [
    "Dη(tr(log(1/G_R))) "
   ]
  },
  {
   "cell_type": "code",
   "execution_count": null,
   "metadata": {},
   "outputs": [],
   "source": []
  },
  {
   "cell_type": "code",
   "execution_count": null,
   "metadata": {},
   "outputs": [],
   "source": []
  }
 ],
 "metadata": {
  "kernelspec": {
   "display_name": "Julia 1.9.2",
   "language": "julia",
   "name": "julia-1.9"
  },
  "language_info": {
   "file_extension": ".jl",
   "mimetype": "application/julia",
   "name": "julia",
   "version": "1.9.2"
  },
  "orig_nbformat": 4
 },
 "nbformat": 4,
 "nbformat_minor": 2
}
