{
 "cells": [
  {
   "cell_type": "code",
   "execution_count": 1,
   "metadata": {},
   "outputs": [
    {
     "name": "stdout",
     "output_type": "stream",
     "text": [
      "Revise.errors() = nothing\n"
     ]
    },
    {
     "name": "stderr",
     "output_type": "stream",
     "text": [
      "\u001b[36m\u001b[1m[ \u001b[22m\u001b[39m\u001b[36m\u001b[1mInfo: \u001b[22m\u001b[39mPrecompiling NonEquilibriumGreenFunction [23f16301-fe5b-45da-b088-f1dd23511803]\n"
     ]
    },
    {
     "data": {
      "text/plain": [
       "SymbolicOperator(-((1//2)*((adjoint(G_R)*adjoint(Σ_R)) - (Σ_R*G_R)) + G_R*Σ_K + G_K*adjoint(Σ_R)) + -(-(Σ_K*adjoint(G_R) + Σ_R*G_K) + (3//2)*((G_R*Σ_R) - (adjoint(Σ_R)*adjoint(G_R)))))"
      ]
     },
     "execution_count": 1,
     "metadata": {},
     "output_type": "execute_result"
    }
   ],
   "source": [
    "using Revise\n",
    "@show Revise.errors()\n",
    "using Symbolics\n",
    "using NonEquilibriumGreenFunction\n",
    "using LinearAlgebra\n",
    "\n",
    "@variables G_R::Kernel G_K::Kernel\n",
    "@variables Σ_R::Kernel Σ_K::Kernel\n",
    "τz = [1 2; 2 3] // 2\n",
    "G = [0 G_R'; G_R G_K]\n",
    "Σl = [Σ_K Σ_R; Σ_R' 0]\n",
    "expr = simplify_kernel(tr(-(τz * (G * Σl - Σl * G))))"
   ]
  },
  {
   "cell_type": "code",
   "execution_count": 2,
   "metadata": {},
   "outputs": [
    {
     "data": {
      "text/plain": [
       "1-element Vector{DataType}:\n",
       " SymbolicUtils.BasicSymbolic{Kernel}"
      ]
     },
     "execution_count": 2,
     "metadata": {},
     "output_type": "execute_result"
    }
   ],
   "source": [
    "using Test\n",
    "using Symbolics\n",
    "using SymbolicUtils\n",
    "@variables x,y\n",
    "Dx = Differential(x)\n",
    "Dy = Differential(y)\n",
    "@variables Gx(x)::Kernel\n",
    "@variables Gy(y)::Kernel\n",
    "expand_derivatives( Dy(Gx*Gy) )\n",
    "Dy(Gx*Gy) |> Symbolics.unwrap |> Symbolics.arguments .|> typeof"
   ]
  },
  {
   "cell_type": "code",
   "execution_count": 5,
   "metadata": {},
   "outputs": [
    {
     "data": {
      "text/plain": [
       "SymbolicOperator(Gx(x)*Differential(y)(Gy(y)))"
      ]
     },
     "execution_count": 5,
     "metadata": {},
     "output_type": "execute_result"
    }
   ],
   "source": [
    "expand_derivatives( Dy(Gx*Gy) )"
   ]
  },
  {
   "cell_type": "code",
   "execution_count": 73,
   "metadata": {},
   "outputs": [
    {
     "data": {
      "text/plain": [
       "2×2 Matrix{SymbolicOperator}:\n",
       " SymbolicOperator(Gx)  SymbolicOperator(0)\n",
       " SymbolicOperator(0)   SymbolicOperator(Gx)"
      ]
     },
     "execution_count": 73,
     "metadata": {},
     "output_type": "execute_result"
    }
   ],
   "source": [
    "using Symbolics\n",
    "using LinearAlgebra\n",
    "@variables Gx::Kernel\n",
    "b = [Gx 0; 0 Gx]"
   ]
  },
  {
   "cell_type": "code",
   "execution_count": 71,
   "metadata": {},
   "outputs": [
    {
     "data": {
      "text/plain": [
       "(SymbolicOperator(Gx), SymbolicOperator(0))"
      ]
     },
     "execution_count": 71,
     "metadata": {},
     "output_type": "execute_result"
    }
   ],
   "source": [
    "promote(Gx,0)"
   ]
  },
  {
   "cell_type": "code",
   "execution_count": 52,
   "metadata": {},
   "outputs": [
    {
     "data": {
      "text/latex": [
       "$$ \\begin{equation}\n",
       "\\mathrm{Gx}\\left( x \\right) \\frac{\\mathrm{d} \\mathrm{Gy}\\left( y \\right)}{\\mathrm{d}y}\n",
       "\\end{equation}\n",
       " $$"
      ],
      "text/plain": [
       "Gx(x)*Differential(y)(Gy(y))"
      ]
     },
     "metadata": {},
     "output_type": "display_data"
    },
    {
     "data": {
      "text/plain": []
     },
     "execution_count": 52,
     "metadata": {},
     "output_type": "execute_result"
    }
   ],
   "source": [
    "Dy(Symbolics.unwrap(Gx*Gy))|> expand_derivatives |> Symbolics.wrap"
   ]
  },
  {
   "cell_type": "code",
   "execution_count": 46,
   "metadata": {},
   "outputs": [
    {
     "data": {
      "text/latex": [
       "$$ \\begin{equation}\n",
       "\\mathrm{Gx}\\left( x \\right) \\frac{\\mathrm{d} \\mathrm{Gy}\\left( y \\right)}{\\mathrm{d}y}\n",
       "\\end{equation}\n",
       " $$"
      ],
      "text/plain": [
       "Gx(x)*Differential(y)(Gy(y))"
      ]
     },
     "metadata": {},
     "output_type": "display_data"
    }
   ],
   "source": [
    "Dy(Gx*Gy) |> expand_derivatives |> display"
   ]
  },
  {
   "cell_type": "code",
   "execution_count": 42,
   "metadata": {},
   "outputs": [
    {
     "data": {
      "text/plain": [
       "Differential"
      ]
     },
     "execution_count": 42,
     "metadata": {},
     "output_type": "execute_result"
    }
   ],
   "source": [
    "typeof(Dx)"
   ]
  },
  {
   "cell_type": "code",
   "execution_count": 51,
   "metadata": {},
   "outputs": [
    {
     "name": "stdout",
     "output_type": "stream",
     "text": [
      "TOLO\n"
     ]
    },
    {
     "data": {
      "text/latex": [
       "$$ \\begin{equation}\n",
       "G_{R}\n",
       "\\end{equation}\n",
       " $$"
      ],
      "text/plain": [
       "G_R"
      ]
     },
     "metadata": {},
     "output_type": "display_data"
    },
    {
     "data": {
      "text/plain": []
     },
     "execution_count": 51,
     "metadata": {},
     "output_type": "execute_result"
    }
   ],
   "source": [
    "G_R"
   ]
  },
  {
   "cell_type": "code",
   "execution_count": 2,
   "metadata": {},
   "outputs": [
    {
     "name": "stdout",
     "output_type": "stream",
     "text": [
      "search:\n",
      "\n",
      "Couldn't find \u001b[36mSymbolicOperator\u001b[39m\n",
      "Perhaps you meant numerator\n"
     ]
    },
    {
     "data": {
      "text/latex": [
       "No documentation found.\n",
       "\n",
       "Binding \\texttt{SymbolicOperator} does not exist.\n",
       "\n"
      ],
      "text/markdown": [
       "No documentation found.\n",
       "\n",
       "Binding `SymbolicOperator` does not exist.\n"
      ],
      "text/plain": [
       "  No documentation found.\n",
       "\n",
       "  Binding \u001b[36mSymbolicOperator\u001b[39m does not exist."
      ]
     },
     "execution_count": 2,
     "metadata": {},
     "output_type": "execute_result"
    }
   ],
   "source": [
    "?SymbolicOperator"
   ]
  },
  {
   "cell_type": "code",
   "execution_count": 60,
   "metadata": {},
   "outputs": [
    {
     "data": {
      "text/latex": [
       "$$ \\begin{equation}\n",
       "\\mathrm{adjoint}\\left( G_{R} \\right)\n",
       "\\end{equation}\n",
       " $$"
      ],
      "text/plain": [
       "adjoint(G_R)"
      ]
     },
     "execution_count": 60,
     "metadata": {},
     "output_type": "execute_result"
    }
   ],
   "source": [
    "G_R'"
   ]
  },
  {
   "cell_type": "code",
   "execution_count": 29,
   "metadata": {},
   "outputs": [
    {
     "ename": "LoadError",
     "evalue": "syntax: invalid identifier name \"?\"",
     "output_type": "error",
     "traceback": [
      "syntax: invalid identifier name \"?\"",
      "",
      "Stacktrace:",
      " [1] top-level scope",
      "   @ In[29]:2"
     ]
    }
   ],
   "source": [
    "using Symbolics"
   ]
  },
  {
   "cell_type": "code",
   "execution_count": 34,
   "metadata": {},
   "outputs": [
    {
     "data": {
      "text/plain": [
       "Vector{Num}\u001b[90m (alias for \u001b[39m\u001b[90mArray{Num, 1}\u001b[39m\u001b[90m)\u001b[39m"
      ]
     },
     "execution_count": 34,
     "metadata": {},
     "output_type": "execute_result"
    }
   ],
   "source": [
    "@variables x\n",
    "typeof([x, 0])\n"
   ]
  },
  {
   "cell_type": "code",
   "execution_count": 48,
   "metadata": {},
   "outputs": [
    {
     "data": {
      "text/plain": [
       "Int64"
      ]
     },
     "execution_count": 48,
     "metadata": {},
     "output_type": "execute_result"
    }
   ],
   "source": []
  },
  {
   "cell_type": "code",
   "execution_count": 38,
   "metadata": {},
   "outputs": [
    {
     "data": {
      "text/plain": [
       "SymbolicUtils.BasicSymbolic{Kernel}"
      ]
     },
     "execution_count": 38,
     "metadata": {},
     "output_type": "execute_result"
    }
   ],
   "source": [
    "typeof(G_R)"
   ]
  },
  {
   "cell_type": "code",
   "execution_count": 43,
   "metadata": {},
   "outputs": [
    {
     "data": {
      "text/plain": [
       "(Num, Num)"
      ]
     },
     "execution_count": 43,
     "metadata": {},
     "output_type": "execute_result"
    }
   ],
   "source": [
    "promote(x,0) .|> typeof "
   ]
  },
  {
   "cell_type": "code",
   "execution_count": 42,
   "metadata": {},
   "outputs": [
    {
     "ename": "LoadError",
     "evalue": "promotion of types SymbolicUtils.BasicSymbolic{Kernel} and Int64 failed to change any arguments",
     "output_type": "error",
     "traceback": [
      "promotion of types SymbolicUtils.BasicSymbolic{Kernel} and Int64 failed to change any arguments",
      "",
      "Stacktrace:",
      " [1] error(::String, ::String, ::String)",
      "   @ Base ./error.jl:44",
      " [2] sametype_error(input::Tuple{SymbolicUtils.BasicSymbolic{Kernel}, Int64})",
      "   @ Base ./promotion.jl:405",
      " [3] not_sametype(x::Tuple{SymbolicUtils.BasicSymbolic{Kernel}, Int64}, y::Tuple{SymbolicUtils.BasicSymbolic{Kernel}, Int64})",
      "   @ Base ./promotion.jl:399",
      " [4] promote(x::SymbolicUtils.BasicSymbolic{Kernel}, y::Int64)",
      "   @ Base ./promotion.jl:382",
      " [5] top-level scope",
      "   @ In[42]:1"
     ]
    }
   ],
   "source": [
    "promote(G_R,0)"
   ]
  },
  {
   "cell_type": "code",
   "execution_count": 46,
   "metadata": {},
   "outputs": [
    {
     "data": {
      "text/latex": [
       "\\begin{verbatim}\n",
       "Num(val)\n",
       "\\end{verbatim}\n",
       "Wrap anything in a type that is a subtype of Real\n",
       "\n"
      ],
      "text/markdown": [
       "```\n",
       "Num(val)\n",
       "```\n",
       "\n",
       "Wrap anything in a type that is a subtype of Real\n"
      ],
      "text/plain": [
       "\u001b[36m  Num(val)\u001b[39m\n",
       "\n",
       "  Wrap anything in a type that is a subtype of Real"
      ]
     },
     "execution_count": 46,
     "metadata": {},
     "output_type": "execute_result"
    }
   ],
   "source": [
    "? Symbolics.Num"
   ]
  },
  {
   "cell_type": "code",
   "execution_count": null,
   "metadata": {},
   "outputs": [],
   "source": []
  }
 ],
 "metadata": {
  "kernelspec": {
   "display_name": "Julia 1.9.2",
   "language": "julia",
   "name": "julia-1.9"
  },
  "language_info": {
   "file_extension": ".jl",
   "mimetype": "application/julia",
   "name": "julia",
   "version": "1.9.2"
  },
  "orig_nbformat": 4
 },
 "nbformat": 4,
 "nbformat_minor": 2
}
