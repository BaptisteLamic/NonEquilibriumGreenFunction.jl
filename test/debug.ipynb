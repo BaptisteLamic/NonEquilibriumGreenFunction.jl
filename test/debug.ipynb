{
 "cells": [
  {
   "cell_type": "code",
   "execution_count": 30,
   "metadata": {},
   "outputs": [
    {
     "data": {
      "text/plain": [
       "SymbolicOperator(0a)"
      ]
     },
     "execution_count": 30,
     "metadata": {},
     "output_type": "execute_result"
    }
   ],
   "source": [
    "using LinearAlgebra\n",
    "using Revise\n",
    "using NonEquilibriumGreenFunction\n",
    "using Symbolics\n",
    "using SymbolicUtils\n",
    "using TermInterface\n",
    "@variables η\n",
    "D = Differential(η)\n",
    "@variables a::Kernel\n",
    "ref_expr = :(a + 0*a)\n",
    "expr = 0*a"
   ]
  },
  {
   "cell_type": "code",
   "execution_count": 22,
   "metadata": {},
   "outputs": [
    {
     "data": {
      "text/latex": [
       "$$ \\begin{equation}\n",
       "0\n",
       "\\end{equation}\n",
       " $$"
      ],
      "text/plain": [
       "0"
      ]
     },
     "metadata": {},
     "output_type": "display_data"
    },
    {
     "data": {
      "text/plain": [
       "Num"
      ]
     },
     "execution_count": 22,
     "metadata": {},
     "output_type": "execute_result"
    }
   ],
   "source": [
    "r = expr |> simplify_kernel\n",
    "display( r )\n",
    "typeof( r )"
   ]
  },
  {
   "cell_type": "code",
   "execution_count": 32,
   "metadata": {},
   "outputs": [
    {
     "data": {
      "text/plain": [
       "Matrix{Any}\u001b[90m (alias for \u001b[39m\u001b[90mArray{Any, 2}\u001b[39m\u001b[90m)\u001b[39m"
      ]
     },
     "execution_count": 32,
     "metadata": {},
     "output_type": "execute_result"
    }
   ],
   "source": [
    "using Symbolics\n",
    "using LinearAlgebra\n",
    "@variables Gx::Kernel\n",
    " one(Gx) * Gx |> simplify_kernel == Gx\n",
    " zero(Gx) * Gx |> simplify_kernel == 0\n",
    " A = [Gx Gx; Gx Gx]\n",
    " typeof(A * A)"
   ]
  },
  {
   "cell_type": "code",
   "execution_count": 7,
   "metadata": {},
   "outputs": [
    {
     "data": {
      "text/plain": [
       "false"
      ]
     },
     "execution_count": 7,
     "metadata": {},
     "output_type": "execute_result"
    }
   ],
   "source": [
    "TermInterface.istree( ( a+a ) |> Symbolics.unwrap )"
   ]
  },
  {
   "cell_type": "code",
   "execution_count": 20,
   "metadata": {},
   "outputs": [
    {
     "data": {
      "text/plain": [
       "SymbolicUtils.BasicSymbolic{Kernel}"
      ]
     },
     "execution_count": 20,
     "metadata": {},
     "output_type": "execute_result"
    }
   ],
   "source": [
    "(a+a) |> Symbolics.unwrap |> typeof"
   ]
  },
  {
   "cell_type": "code",
   "execution_count": 21,
   "metadata": {},
   "outputs": [
    {
     "data": {
      "text/plain": [
       "SymbolicUtils.BasicSymbolic{Kernel}"
      ]
     },
     "execution_count": 21,
     "metadata": {},
     "output_type": "execute_result"
    }
   ],
   "source": [
    "(a) |> Symbolics.unwrap |> typeof"
   ]
  },
  {
   "cell_type": "code",
   "execution_count": 14,
   "metadata": {},
   "outputs": [
    {
     "name": "stdout",
     "output_type": "stream",
     "text": [
      "methods(Symbolics.arguments) = # 15 methods for generic function \"arguments\" from SymbolicUtils:\n",
      "  [1] arguments(x::SymbolicUtils.BasicSymbolic)\n",
      "     @ ~/.julia/packages/SymbolicUtils/NJ0fs/src/types.jl:113\n",
      "  [2] arguments(x::ArrayMaker)\n",
      "     @ Symbolics ~/.julia/packages/Symbolics/CNA2l/src/arrays.jl:758\n",
      "  [3] arguments(x::PolyForm{T}) where T\n",
      "     @ ~/.julia/packages/SymbolicUtils/NJ0fs/src/polyform.jl:186\n",
      "  [4] arguments(x::SymbolicUtils.Code.MakeSparseArray)\n",
      "     @ SymbolicUtils.Code ~/.julia/packages/SymbolicUtils/NJ0fs/src/utils.jl:224\n",
      "  [5] arguments(a::Symbolics.ComplexTerm)\n",
      "     @ Symbolics ~/.julia/packages/Symbolics/CNA2l/src/complex.jl:23\n",
      "  [6] arguments(x::Symbolics.CallWithMetadata)\n",
      "     @ Symbolics ~/.julia/packages/Symbolics/CNA2l/src/variable.jl:242\n",
      "  [7] arguments(a::Symbolics.ArrayOp)\n",
      "     @ Symbolics ~/.julia/packages/Symbolics/CNA2l/src/arrays.jl:89\n",
      "  [8] arguments(x::SymbolicUtils.Code.SetArray)\n",
      "     @ SymbolicUtils.Code ~/.julia/packages/SymbolicUtils/NJ0fs/src/utils.jl:224\n",
      "  [9] arguments(x::SymbolicUtils.Code.Func)\n",
      "     @ SymbolicUtils.Code ~/.julia/packages/SymbolicUtils/NJ0fs/src/utils.jl:224\n",
      " [10] arguments(x::SymbolicUtils.Code.Assignment)\n",
      "     @ SymbolicUtils.Code ~/.julia/packages/SymbolicUtils/NJ0fs/src/utils.jl:224\n",
      " [11] arguments(x::SymbolicUtils.Code.DestructuredArgs)\n",
      "     @ SymbolicUtils.Code ~/.julia/packages/SymbolicUtils/NJ0fs/src/utils.jl:224\n",
      " [12] arguments(x::SymbolicUtils.Code.AtIndex)\n",
      "     @ SymbolicUtils.Code ~/.julia/packages/SymbolicUtils/NJ0fs/src/utils.jl:224\n",
      " [13] arguments(x::SymbolicUtils.Code.Let)\n",
      "     @ SymbolicUtils.Code ~/.julia/packages/SymbolicUtils/NJ0fs/src/utils.jl:224\n",
      " [14] arguments(x::SymbolicUtils.Code.MakeTuple)\n",
      "     @ SymbolicUtils.Code ~/.julia/packages/SymbolicUtils/NJ0fs/src/utils.jl:224\n",
      " [15] arguments(x::SymbolicUtils.Code.MakeArray)\n",
      "     @ SymbolicUtils.Code ~/.julia/packages/SymbolicUtils/NJ0fs/src/utils.jl:224\n"
     ]
    },
    {
     "name": "stderr",
     "output_type": "stream",
     "text": [
      "WARNING: replacing module TEST.\n"
     ]
    },
    {
     "data": {
      "text/plain": [
       "Main.TEST"
      ]
     },
     "execution_count": 14,
     "metadata": {},
     "output_type": "execute_result"
    }
   ],
   "source": [
    "module TEST \n",
    "    using Symbolics\n",
    "    using SymbolicUtils\n",
    "    using TermInterface\n",
    "    @show methods(Symbolics.arguments)\n",
    "end"
   ]
  },
  {
   "cell_type": "code",
   "execution_count": 15,
   "metadata": {},
   "outputs": [
    {
     "name": "stdout",
     "output_type": "stream",
     "text": [
      "methods(SymbolicUtils.arguments) = # 15 methods for generic function \"arguments\" from SymbolicUtils:\n",
      "  [1] arguments(x::SymbolicUtils.BasicSymbolic)\n",
      "     @ ~/.julia/packages/SymbolicUtils/NJ0fs/src/types.jl:113\n",
      "  [2] arguments(x::ArrayMaker)\n",
      "     @ Symbolics ~/.julia/packages/Symbolics/CNA2l/src/arrays.jl:758\n",
      "  [3] arguments(x::PolyForm{T}) where T\n",
      "     @ ~/.julia/packages/SymbolicUtils/NJ0fs/src/polyform.jl:186\n",
      "  [4] arguments(x::SymbolicUtils.Code.MakeSparseArray)\n",
      "     @ SymbolicUtils.Code ~/.julia/packages/SymbolicUtils/NJ0fs/src/utils.jl:224\n",
      "  [5] arguments(a::Symbolics.ComplexTerm)\n",
      "     @ Symbolics ~/.julia/packages/Symbolics/CNA2l/src/complex.jl:23\n",
      "  [6] arguments(x::Symbolics.CallWithMetadata)\n",
      "     @ Symbolics ~/.julia/packages/Symbolics/CNA2l/src/variable.jl:242\n",
      "  [7] arguments(a::Symbolics.ArrayOp)\n",
      "     @ Symbolics ~/.julia/packages/Symbolics/CNA2l/src/arrays.jl:89\n",
      "  [8] arguments(x::SymbolicUtils.Code.SetArray)\n",
      "     @ SymbolicUtils.Code ~/.julia/packages/SymbolicUtils/NJ0fs/src/utils.jl:224\n",
      "  [9] arguments(x::SymbolicUtils.Code.Func)\n",
      "     @ SymbolicUtils.Code ~/.julia/packages/SymbolicUtils/NJ0fs/src/utils.jl:224\n",
      " [10] arguments(x::SymbolicUtils.Code.Assignment)\n",
      "     @ SymbolicUtils.Code ~/.julia/packages/SymbolicUtils/NJ0fs/src/utils.jl:224\n",
      " [11] arguments(x::SymbolicUtils.Code.DestructuredArgs)\n",
      "     @ SymbolicUtils.Code ~/.julia/packages/SymbolicUtils/NJ0fs/src/utils.jl:224\n",
      " [12] arguments(x::SymbolicUtils.Code.AtIndex)\n",
      "     @ SymbolicUtils.Code ~/.julia/packages/SymbolicUtils/NJ0fs/src/utils.jl:224\n",
      " [13] arguments(x::SymbolicUtils.Code.Let)\n",
      "     @ SymbolicUtils.Code ~/.julia/packages/SymbolicUtils/NJ0fs/src/utils.jl:224\n",
      " [14] arguments(x::SymbolicUtils.Code.MakeTuple)\n",
      "     @ SymbolicUtils.Code ~/.julia/packages/SymbolicUtils/NJ0fs/src/utils.jl:224\n",
      " [15] arguments(x::SymbolicUtils.Code.MakeArray)\n",
      "     @ SymbolicUtils.Code ~/.julia/packages/SymbolicUtils/NJ0fs/src/utils.jl:224\n"
     ]
    },
    {
     "name": "stderr",
     "output_type": "stream",
     "text": [
      "WARNING: replacing module TEST.\n"
     ]
    },
    {
     "data": {
      "text/plain": [
       "Main.TEST"
      ]
     },
     "execution_count": 15,
     "metadata": {},
     "output_type": "execute_result"
    }
   ],
   "source": [
    "module TEST \n",
    "    using Symbolics\n",
    "    using SymbolicUtils\n",
    "    using TermInterface\n",
    "    @show methods(SymbolicUtils.arguments)\n",
    "end"
   ]
  },
  {
   "cell_type": "code",
   "execution_count": 26,
   "metadata": {},
   "outputs": [
    {
     "name": "stdout",
     "output_type": "stream",
     "text": [
      "methods(TermInterface.arguments) = # 3 methods for generic function \"arguments\" from TermInterface:\n",
      " [1] arguments(e::Expr)\n",
      "     @ ~/.julia/packages/TermInterface/6hcD2/src/expr.jl:8\n",
      " [2] arguments(n::Metatheory.EGraphs.ENodeTerm)\n",
      "     @ Metatheory.EGraphs ~/.julia/packages/Metatheory/gACcT/src/EGraphs/egraph.jl:53\n",
      " [3] arguments(p::Metatheory.Patterns.PatTerm)\n",
      "     @ Metatheory.Patterns ~/.julia/packages/Metatheory/gACcT/src/Patterns.jl:90\n"
     ]
    },
    {
     "name": "stderr",
     "output_type": "stream",
     "text": [
      "WARNING: replacing module TEST.\n"
     ]
    },
    {
     "data": {
      "text/plain": [
       "Main.TEST"
      ]
     },
     "execution_count": 26,
     "metadata": {},
     "output_type": "execute_result"
    }
   ],
   "source": [
    "module TEST \n",
    "    using Symbolics\n",
    "    using SymbolicUtils\n",
    "    using TermInterface\n",
    "    @show methods(TermInterface.arguments)\n",
    "end"
   ]
  },
  {
   "cell_type": "code",
   "execution_count": 31,
   "metadata": {},
   "outputs": [
    {
     "ename": "LoadError",
     "evalue": "MethodError: no method matching isa_SymType(::SymbolicUtils.BasicSymbolic{Kernel})\n\n\u001b[0mClosest candidates are:\n\u001b[0m  isa_SymType(\u001b[91m::Val{S}\u001b[39m, \u001b[91m::Any\u001b[39m) where S\n\u001b[0m\u001b[90m   @\u001b[39m \u001b[33mSymbolicUtils\u001b[39m \u001b[90m~/.julia/packages/SymbolicUtils/NJ0fs/src/\u001b[39m\u001b[90m\u001b[4mtypes.jl:176\u001b[24m\u001b[39m\n",
     "output_type": "error",
     "traceback": [
      "MethodError: no method matching isa_SymType(::SymbolicUtils.BasicSymbolic{Kernel})\n\n\u001b[0mClosest candidates are:\n\u001b[0m  isa_SymType(\u001b[91m::Val{S}\u001b[39m, \u001b[91m::Any\u001b[39m) where S\n\u001b[0m\u001b[90m   @\u001b[39m \u001b[33mSymbolicUtils\u001b[39m \u001b[90m~/.julia/packages/SymbolicUtils/NJ0fs/src/\u001b[39m\u001b[90m\u001b[4mtypes.jl:176\u001b[24m\u001b[39m\n",
      "",
      "Stacktrace:",
      " [1] top-level scope",
      "   @ In[31]:1"
     ]
    }
   ],
   "source": [
    "SymbolicUtils.isa_SymType( a |> Symbolics.unwrap )"
   ]
  },
  {
   "cell_type": "code",
   "execution_count": 35,
   "metadata": {},
   "outputs": [
    {
     "data": {
      "text/plain": [
       "DataType"
      ]
     },
     "execution_count": 35,
     "metadata": {},
     "output_type": "execute_result"
    }
   ],
   "source": [
    "typeof(typeof(a))"
   ]
  },
  {
   "cell_type": "code",
   "execution_count": null,
   "metadata": {},
   "outputs": [],
   "source": []
  }
 ],
 "metadata": {
  "kernelspec": {
   "display_name": "Julia 1.9.2",
   "language": "julia",
   "name": "julia-1.9"
  },
  "language_info": {
   "file_extension": ".jl",
   "mimetype": "application/julia",
   "name": "julia",
   "version": "1.9.2"
  },
  "orig_nbformat": 4
 },
 "nbformat": 4,
 "nbformat_minor": 2
}
