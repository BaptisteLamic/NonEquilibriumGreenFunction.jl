{
 "cells": [
  {
   "cell_type": "code",
   "execution_count": 174,
   "metadata": {},
   "outputs": [
    {
     "data": {
      "text/plain": [
       "SymbolicOperator(Differential(η)(LinearAlgebra.tr(log(inv(inv(inv(g(η)) - Σ(η)))))))"
      ]
     },
     "execution_count": 174,
     "metadata": {},
     "output_type": "execute_result"
    }
   ],
   "source": [
    "using Symbolics\n",
    "using LinearAlgebra\n",
    "using NonEquilibriumGreenFunction\n",
    "@variables η\n",
    "D = Differential(η)\n",
    "@variables G(η)::Kernel g(η)::Kernel Σ(η)::Kernel\n",
    "G = inv(inv(g) - Σ)\n",
    "expr = D(tr(log(inv(G))))"
   ]
  },
  {
   "cell_type": "code",
   "execution_count": 175,
   "metadata": {},
   "outputs": [
    {
     "data": {
      "text/latex": [
       "$$ \\begin{equation}\n",
       "\\mathrm{tr}\\left( \\frac{\\mathrm{d} \\log\\left( \\mathrm{inv}\\left( g\\left( \\eta \\right) \\right) - \\Sigma\\left( \\eta \\right) \\right)}{\\mathrm{d}\\eta} \\right)\n",
       "\\end{equation}\n",
       " $$"
      ],
      "text/plain": [
       "LinearAlgebra.tr(Differential(η)(log(inv(g(η)) - Σ(η))))"
      ]
     },
     "metadata": {},
     "output_type": "display_data"
    }
   ],
   "source": [
    "display(expr |> expand_derivatives |> simplify_kernel)"
   ]
  },
  {
   "cell_type": "code",
   "execution_count": 188,
   "metadata": {},
   "outputs": [
    {
     "data": {
      "text/plain": [
       "true"
      ]
     },
     "metadata": {},
     "output_type": "display_data"
    }
   ],
   "source": [
    "using Symbolics\n",
    "using LinearAlgebra\n",
    "using NonEquilibriumGreenFunction\n",
    "@variables η\n",
    "D = Differential(η)\n",
    "@variables g(η)::Kernel Σ(η)::Kernel\n",
    "expr = isequal(D(inv(g) +  Σ)  |> simplify_kernel, simplify_kernel( D(inv(g)) +   D(Σ) ) )\n",
    "display(expr)"
   ]
  },
  {
   "cell_type": "code",
   "execution_count": 231,
   "metadata": {},
   "outputs": [
    {
     "data": {
      "text/plain": [
       "true"
      ]
     },
     "execution_count": 231,
     "metadata": {},
     "output_type": "execute_result"
    }
   ],
   "source": [
    "isequal(simplify_kernel(D(G +  Σ)  +  ( D(G) +   D(Σ) ) ), 2D(G) + 2D(Σ))"
   ]
  },
  {
   "cell_type": "code",
   "execution_count": 182,
   "metadata": {},
   "outputs": [
    {
     "data": {
      "text/plain": [
       "SymbolicOperator(Differential(η)(inv(g(η))) + Differential(η)(Σ(η)))"
      ]
     },
     "execution_count": 182,
     "metadata": {},
     "output_type": "execute_result"
    }
   ],
   "source": [
    "D(inv(g) +  Σ)  |> simplify_kernel"
   ]
  },
  {
   "cell_type": "code",
   "execution_count": 165,
   "metadata": {},
   "outputs": [
    {
     "data": {
      "text/latex": [
       "$$ \\begin{equation}\n",
       "\\frac{\\mathrm{d} \\mathrm{inv}\\left( g\\left( \\eta \\right) \\right)}{\\mathrm{d}\\eta} + \\frac{\\mathrm{d} \\Sigma\\left( \\eta \\right)}{\\mathrm{d}\\eta}\n",
       "\\end{equation}\n",
       " $$"
      ],
      "text/plain": [
       "Differential(η)(inv(g(η))) + Differential(η)(Σ(η))"
      ]
     },
     "execution_count": 165,
     "metadata": {},
     "output_type": "execute_result"
    }
   ],
   "source": [
    "function is_differential(x::Differential) \n",
    "    return true\n",
    "end\n",
    "is_differential(x) = false\n",
    "r = @rule (~f::is_differential)( ~a + ~b) => (~f)(~a) + (~f)(~b) \n",
    "r(expr)"
   ]
  },
  {
   "cell_type": "code",
   "execution_count": 158,
   "metadata": {},
   "outputs": [],
   "source": [
    "r(expr)"
   ]
  },
  {
   "cell_type": "code",
   "execution_count": 140,
   "metadata": {},
   "outputs": [
    {
     "data": {
      "text/latex": [
       "$$ \\begin{equation}\n",
       "\\mathrm{tr}\\left( \\frac{\\mathrm{d} g\\left( \\eta \\right)}{\\mathrm{d}\\eta} \\right)\n",
       "\\end{equation}\n",
       " $$"
      ],
      "text/plain": [
       "LinearAlgebra.tr(Differential(η)(g(η)))"
      ]
     },
     "metadata": {},
     "output_type": "display_data"
    }
   ],
   "source": [
    "display(tr(D(g)))"
   ]
  },
  {
   "cell_type": "code",
   "execution_count": 191,
   "metadata": {},
   "outputs": [
    {
     "data": {
      "text/plain": [
       "true"
      ]
     },
     "execution_count": 191,
     "metadata": {},
     "output_type": "execute_result"
    }
   ],
   "source": [
    "using Symbolics\n",
    "using LinearAlgebra\n",
    "@variables G::Kernel Σ::Kernel\n",
    "isequal(inv(inv(G)) |> simplify_kernel, G)\n",
    "isequal(D(G +  Σ)  |> simplify_kernel, simplify_kernel( D(G) +   D(Σ) ) )"
   ]
  },
  {
   "cell_type": "code",
   "execution_count": 223,
   "metadata": {},
   "outputs": [
    {
     "data": {
      "text/plain": [
       "true"
      ]
     },
     "execution_count": 223,
     "metadata": {},
     "output_type": "execute_result"
    }
   ],
   "source": [
    "using Symbolics\n",
    "@variables x::Kernel y::Kernel z::Kernel\n",
    "isequal(simplify_kernel( y + y + y - y),2y)"
   ]
  },
  {
   "cell_type": "code",
   "execution_count": null,
   "metadata": {},
   "outputs": [],
   "source": []
  }
 ],
 "metadata": {
  "kernelspec": {
   "display_name": "Julia 1.9.2",
   "language": "julia",
   "name": "julia-1.9"
  },
  "language_info": {
   "file_extension": ".jl",
   "mimetype": "application/julia",
   "name": "julia",
   "version": "1.9.2"
  },
  "orig_nbformat": 4
 },
 "nbformat": 4,
 "nbformat_minor": 2
}
